{
 "cells": [
  {
   "cell_type": "code",
   "execution_count": 1,
   "metadata": {
    "collapsed": false
   },
   "outputs": [],
   "source": [
    "from sklearn.tree import DecisionTreeClassifier\n",
    "from sklearn.linear_model import LogisticRegression\n",
    "from sklearn.naive_bayes import GaussianNB\n",
    "from sklearn.cluster import KMeans\n",
    "from sklearn.neighbors import NearestNeighbors\n",
    "from sklearn import metrics\n",
    "from utils import Processor, EnsembleClassifier\n",
    "from sklearn.ensemble import AdaBoostClassifier, RandomForestClassifier, BaggingClassifier\n",
    "import matplotlib.pyplot as plt\n",
    "import seaborn as sns\n",
    "import os\n",
    "import itertools\n",
    "import numpy as np\n",
    "import pandas as pd\n",
    "import telepot\n",
    "%matplotlib inline"
   ]
  },
  {
   "cell_type": "code",
   "execution_count": 2,
   "metadata": {
    "collapsed": false
   },
   "outputs": [],
   "source": [
    "# os.chdir('/')\n",
    "trainFid = 'KDDTrain+.txt'\n",
    "testFid = 'KDDTest-21.txt'\n",
    "bot = telepot.Bot('258510570:AAHujlmQqiZ_L4yrWMR9HtuE-0rK8xXo-XY')"
   ]
  },
  {
   "cell_type": "markdown",
   "metadata": {},
   "source": [
    "## 資料前處理"
   ]
  },
  {
   "cell_type": "code",
   "execution_count": 3,
   "metadata": {
    "collapsed": false
   },
   "outputs": [
    {
     "data": {
      "text/html": [
       "<div>\n",
       "<table border=\"1\" class=\"dataframe\">\n",
       "  <thead>\n",
       "    <tr style=\"text-align: right;\">\n",
       "      <th></th>\n",
       "      <th>duration</th>\n",
       "      <th>protocol_type</th>\n",
       "      <th>service</th>\n",
       "      <th>flag</th>\n",
       "      <th>src_bytes</th>\n",
       "      <th>dst_bytes</th>\n",
       "      <th>land</th>\n",
       "      <th>wrong_fragment</th>\n",
       "      <th>urgent</th>\n",
       "      <th>hot</th>\n",
       "      <th>...</th>\n",
       "      <th>dst_host_srv_count</th>\n",
       "      <th>dst_host_same_srv_rate</th>\n",
       "      <th>dst_host_diff_srv_rate</th>\n",
       "      <th>dst_host_same_src_port_rate</th>\n",
       "      <th>dst_host_srv_diff_host_rate</th>\n",
       "      <th>dst_host_serror_rate</th>\n",
       "      <th>dst_host_srv_serror_rate</th>\n",
       "      <th>dst_host_rerror_rate</th>\n",
       "      <th>dst_host_srv_rerror_rate</th>\n",
       "      <th>attack_type</th>\n",
       "    </tr>\n",
       "  </thead>\n",
       "  <tbody>\n",
       "    <tr>\n",
       "      <th>93269</th>\n",
       "      <td>0</td>\n",
       "      <td>tcp</td>\n",
       "      <td>http</td>\n",
       "      <td>S0</td>\n",
       "      <td>0</td>\n",
       "      <td>0</td>\n",
       "      <td>0</td>\n",
       "      <td>0</td>\n",
       "      <td>0</td>\n",
       "      <td>0</td>\n",
       "      <td>...</td>\n",
       "      <td>19</td>\n",
       "      <td>0.07</td>\n",
       "      <td>0.08</td>\n",
       "      <td>0.00</td>\n",
       "      <td>0.00</td>\n",
       "      <td>1.00</td>\n",
       "      <td>1.0</td>\n",
       "      <td>0.00</td>\n",
       "      <td>0.0</td>\n",
       "      <td>1</td>\n",
       "    </tr>\n",
       "    <tr>\n",
       "      <th>83421</th>\n",
       "      <td>0</td>\n",
       "      <td>tcp</td>\n",
       "      <td>other</td>\n",
       "      <td>REJ</td>\n",
       "      <td>0</td>\n",
       "      <td>0</td>\n",
       "      <td>0</td>\n",
       "      <td>0</td>\n",
       "      <td>0</td>\n",
       "      <td>0</td>\n",
       "      <td>...</td>\n",
       "      <td>1</td>\n",
       "      <td>0.00</td>\n",
       "      <td>1.00</td>\n",
       "      <td>0.00</td>\n",
       "      <td>0.00</td>\n",
       "      <td>0.26</td>\n",
       "      <td>0.0</td>\n",
       "      <td>0.72</td>\n",
       "      <td>1.0</td>\n",
       "      <td>3</td>\n",
       "    </tr>\n",
       "    <tr>\n",
       "      <th>102525</th>\n",
       "      <td>0</td>\n",
       "      <td>tcp</td>\n",
       "      <td>private</td>\n",
       "      <td>RSTR</td>\n",
       "      <td>0</td>\n",
       "      <td>0</td>\n",
       "      <td>0</td>\n",
       "      <td>0</td>\n",
       "      <td>0</td>\n",
       "      <td>0</td>\n",
       "      <td>...</td>\n",
       "      <td>1</td>\n",
       "      <td>0.00</td>\n",
       "      <td>0.03</td>\n",
       "      <td>0.01</td>\n",
       "      <td>0.00</td>\n",
       "      <td>0.00</td>\n",
       "      <td>0.0</td>\n",
       "      <td>0.01</td>\n",
       "      <td>1.0</td>\n",
       "      <td>3</td>\n",
       "    </tr>\n",
       "    <tr>\n",
       "      <th>95020</th>\n",
       "      <td>0</td>\n",
       "      <td>tcp</td>\n",
       "      <td>http</td>\n",
       "      <td>SF</td>\n",
       "      <td>343</td>\n",
       "      <td>565</td>\n",
       "      <td>0</td>\n",
       "      <td>0</td>\n",
       "      <td>0</td>\n",
       "      <td>0</td>\n",
       "      <td>...</td>\n",
       "      <td>255</td>\n",
       "      <td>1.00</td>\n",
       "      <td>0.00</td>\n",
       "      <td>0.07</td>\n",
       "      <td>0.02</td>\n",
       "      <td>0.00</td>\n",
       "      <td>0.0</td>\n",
       "      <td>0.00</td>\n",
       "      <td>0.0</td>\n",
       "      <td>0</td>\n",
       "    </tr>\n",
       "    <tr>\n",
       "      <th>49670</th>\n",
       "      <td>0</td>\n",
       "      <td>tcp</td>\n",
       "      <td>ftp_data</td>\n",
       "      <td>SF</td>\n",
       "      <td>7196</td>\n",
       "      <td>0</td>\n",
       "      <td>0</td>\n",
       "      <td>0</td>\n",
       "      <td>0</td>\n",
       "      <td>0</td>\n",
       "      <td>...</td>\n",
       "      <td>56</td>\n",
       "      <td>0.93</td>\n",
       "      <td>0.13</td>\n",
       "      <td>0.93</td>\n",
       "      <td>0.04</td>\n",
       "      <td>0.00</td>\n",
       "      <td>0.0</td>\n",
       "      <td>0.00</td>\n",
       "      <td>0.0</td>\n",
       "      <td>0</td>\n",
       "    </tr>\n",
       "  </tbody>\n",
       "</table>\n",
       "<p>5 rows × 42 columns</p>\n",
       "</div>"
      ],
      "text/plain": [
       "        duration protocol_type   service  flag  src_bytes  dst_bytes  land  \\\n",
       "93269          0           tcp      http    S0          0          0     0   \n",
       "83421          0           tcp     other   REJ          0          0     0   \n",
       "102525         0           tcp   private  RSTR          0          0     0   \n",
       "95020          0           tcp      http    SF        343        565     0   \n",
       "49670          0           tcp  ftp_data    SF       7196          0     0   \n",
       "\n",
       "        wrong_fragment  urgent  hot     ...       dst_host_srv_count  \\\n",
       "93269                0       0    0     ...                       19   \n",
       "83421                0       0    0     ...                        1   \n",
       "102525               0       0    0     ...                        1   \n",
       "95020                0       0    0     ...                      255   \n",
       "49670                0       0    0     ...                       56   \n",
       "\n",
       "        dst_host_same_srv_rate  dst_host_diff_srv_rate  \\\n",
       "93269                     0.07                    0.08   \n",
       "83421                     0.00                    1.00   \n",
       "102525                    0.00                    0.03   \n",
       "95020                     1.00                    0.00   \n",
       "49670                     0.93                    0.13   \n",
       "\n",
       "        dst_host_same_src_port_rate  dst_host_srv_diff_host_rate  \\\n",
       "93269                          0.00                         0.00   \n",
       "83421                          0.00                         0.00   \n",
       "102525                         0.01                         0.00   \n",
       "95020                          0.07                         0.02   \n",
       "49670                          0.93                         0.04   \n",
       "\n",
       "        dst_host_serror_rate  dst_host_srv_serror_rate  dst_host_rerror_rate  \\\n",
       "93269                   1.00                       1.0                  0.00   \n",
       "83421                   0.26                       0.0                  0.72   \n",
       "102525                  0.00                       0.0                  0.01   \n",
       "95020                   0.00                       0.0                  0.00   \n",
       "49670                   0.00                       0.0                  0.00   \n",
       "\n",
       "        dst_host_srv_rerror_rate  attack_type  \n",
       "93269                        0.0            1  \n",
       "83421                        1.0            3  \n",
       "102525                       1.0            3  \n",
       "95020                        0.0            0  \n",
       "49670                        0.0            0  \n",
       "\n",
       "[5 rows x 42 columns]"
      ]
     },
     "execution_count": 3,
     "metadata": {},
     "output_type": "execute_result"
    }
   ],
   "source": [
    "traindata, attack_type_list = Processor.cleanData(trainFid)\n",
    "traindata = traindata.iloc[np.random.permutation(len(traindata))]\n",
    "test_data_len = 20000\n",
    "traindata_len = len(traindata) - test_data_len\n",
    "testdata = traindata[traindata_len:]\n",
    "traindata = traindata[:traindata_len]\n",
    "# testdata, _ = Processor.cleanData(testFid)\n",
    "traindata.head()"
   ]
  },
  {
   "cell_type": "markdown",
   "metadata": {},
   "source": [
    "##### 列出一些基本資料"
   ]
  },
  {
   "cell_type": "code",
   "execution_count": 4,
   "metadata": {
    "collapsed": false
   },
   "outputs": [
    {
     "name": "stdout",
     "output_type": "stream",
     "text": [
      "攻擊型態：['normal', 'dos', 'r2l', 'probe', 'u2r']\n",
      "有105973筆訓練資料\n",
      "有20000筆測試資料\n"
     ]
    }
   ],
   "source": [
    "print \"攻擊型態：%s\" % attack_type_list\n",
    "print \"有%d筆訓練資料\" % len(traindata)\n",
    "print \"有%d筆測試資料\" % len(testdata)"
   ]
  },
  {
   "cell_type": "markdown",
   "metadata": {},
   "source": [
    "##### 資料的特徵及屬性"
   ]
  },
  {
   "cell_type": "code",
   "execution_count": 5,
   "metadata": {
    "collapsed": false
   },
   "outputs": [
    {
     "name": "stdout",
     "output_type": "stream",
     "text": [
      "<class 'pandas.core.frame.DataFrame'>\n",
      "Int64Index: 105973 entries, 93269 to 36192\n",
      "Data columns (total 42 columns):\n",
      "duration                       105973 non-null int64\n",
      "protocol_type                  105973 non-null object\n",
      "service                        105973 non-null object\n",
      "flag                           105973 non-null object\n",
      "src_bytes                      105973 non-null int64\n",
      "dst_bytes                      105973 non-null int64\n",
      "land                           105973 non-null int64\n",
      "wrong_fragment                 105973 non-null int64\n",
      "urgent                         105973 non-null int64\n",
      "hot                            105973 non-null int64\n",
      "num_failed_logins              105973 non-null int64\n",
      "logged_in                      105973 non-null int64\n",
      "num_compromised                105973 non-null int64\n",
      "root_shell                     105973 non-null int64\n",
      "su_attempted                   105973 non-null int64\n",
      "num_root                       105973 non-null int64\n",
      "num_file_creations             105973 non-null int64\n",
      "num_shells                     105973 non-null int64\n",
      "num_access_files               105973 non-null int64\n",
      "num_outbound_cmds              105973 non-null int64\n",
      "is_host_login                  105973 non-null int64\n",
      "is_guest_login                 105973 non-null int64\n",
      "count                          105973 non-null int64\n",
      "srv_count                      105973 non-null int64\n",
      "serror_rate                    105973 non-null float64\n",
      "srv_serror_rate                105973 non-null float64\n",
      "rerror_rate                    105973 non-null float64\n",
      "srv_rerror_rate                105973 non-null float64\n",
      "same_srv_rate                  105973 non-null float64\n",
      "diff_srv_rate                  105973 non-null float64\n",
      "srv_diff_host_rate             105973 non-null float64\n",
      "dst_host_count                 105973 non-null int64\n",
      "dst_host_srv_count             105973 non-null int64\n",
      "dst_host_same_srv_rate         105973 non-null float64\n",
      "dst_host_diff_srv_rate         105973 non-null float64\n",
      "dst_host_same_src_port_rate    105973 non-null float64\n",
      "dst_host_srv_diff_host_rate    105973 non-null float64\n",
      "dst_host_serror_rate           105973 non-null float64\n",
      "dst_host_srv_serror_rate       105973 non-null float64\n",
      "dst_host_rerror_rate           105973 non-null float64\n",
      "dst_host_srv_rerror_rate       105973 non-null float64\n",
      "attack_type                    105973 non-null int64\n",
      "dtypes: float64(15), int64(24), object(3)\n",
      "memory usage: 34.8+ MB\n"
     ]
    }
   ],
   "source": [
    "traindata.info()"
   ]
  },
  {
   "cell_type": "markdown",
   "metadata": {},
   "source": [
    "#### 1. 檢視攻擊種類分佈"
   ]
  },
  {
   "cell_type": "code",
   "execution_count": 6,
   "metadata": {
    "collapsed": false
   },
   "outputs": [
    {
     "data": {
      "text/plain": [
       "[<matplotlib.text.Text at 0x110155750>,\n",
       " <matplotlib.text.Text at 0x11015d750>,\n",
       " <matplotlib.text.Text at 0x11014bb10>,\n",
       " <matplotlib.text.Text at 0x11137ba90>,\n",
       " <matplotlib.text.Text at 0x103a849d0>]"
      ]
     },
     "execution_count": 6,
     "metadata": {},
     "output_type": "execute_result"
    },
    {
     "data": {
      "image/png": "[encoded data removed]",
      "text/plain": [
       "<matplotlib.figure.Figure at 0x103a9a290>"
      ]
     },
     "metadata": {},
     "output_type": "display_data"
    }
   ],
   "source": [
    "plt.figure(figsize = (12, 6))\n",
    "ax = sns.barplot(x=range(0, len(traindata['attack_type'].value_counts())), y=traindata['attack_type'].value_counts().tolist())\n",
    "attack_t = [attack_type_list[i] for i in traindata['attack_type'].value_counts().index]\n",
    "plt.legend(attack_t,loc=0)\n",
    "ax.set_xticklabels(attack_t)"
   ]
  },
  {
   "cell_type": "markdown",
   "metadata": {},
   "source": [
    "以攻擊型態來說，最常見的是DOS，其次是Probe，其餘兩個比較少見"
   ]
  },
  {
   "cell_type": "markdown",
   "metadata": {},
   "source": [
    "#### 2. 資料標準化"
   ]
  },
  {
   "cell_type": "code",
   "execution_count": 7,
   "metadata": {
    "collapsed": false
   },
   "outputs": [],
   "source": [
    "data_all = pd.concat([traindata, testdata])\n",
    "traindata_df = pd.get_dummies(\n",
    "    Processor.normalize(data_all.drop(['attack_type'], axis=1)))[:len(traindata)]\n",
    "testdata_df = pd.get_dummies(\n",
    "    Processor.normalize(data_all.drop(['attack_type'], axis=1)))[len(traindata):]\n",
    "traindata_df['attack_type'] = traindata['attack_type']\n",
    "testdata_df['attack_type'] = testdata['attack_type']\n",
    "anomalydata_df = traindata_df[traindata_df['attack_type']!=0]\n",
    "anomalydata_df.index = range(0, len(anomalydata_df))\n",
    "normaldata_df = traindata_df[traindata_df['attack_type']==0]\n",
    "normaldata_df.index = range(0, len(normaldata_df))"
   ]
  },
  {
   "cell_type": "markdown",
   "metadata": {},
   "source": [
    "###### 把異常和正常資料分離出來"
   ]
  },
  {
   "cell_type": "code",
   "execution_count": 8,
   "metadata": {
    "collapsed": false
   },
   "outputs": [
    {
     "data": {
      "text/html": [
       "<div>\n",
       "<table border=\"1\" class=\"dataframe\">\n",
       "  <thead>\n",
       "    <tr style=\"text-align: right;\">\n",
       "      <th></th>\n",
       "      <th>duration</th>\n",
       "      <th>src_bytes</th>\n",
       "      <th>dst_bytes</th>\n",
       "      <th>land</th>\n",
       "      <th>wrong_fragment</th>\n",
       "      <th>urgent</th>\n",
       "      <th>hot</th>\n",
       "      <th>num_failed_logins</th>\n",
       "      <th>logged_in</th>\n",
       "      <th>num_compromised</th>\n",
       "      <th>...</th>\n",
       "      <th>flag_RSTO</th>\n",
       "      <th>flag_RSTOS0</th>\n",
       "      <th>flag_RSTR</th>\n",
       "      <th>flag_S0</th>\n",
       "      <th>flag_S1</th>\n",
       "      <th>flag_S2</th>\n",
       "      <th>flag_S3</th>\n",
       "      <th>flag_SF</th>\n",
       "      <th>flag_SH</th>\n",
       "      <th>attack_type</th>\n",
       "    </tr>\n",
       "  </thead>\n",
       "  <tbody>\n",
       "    <tr>\n",
       "      <th>0</th>\n",
       "      <td>-0.110249</td>\n",
       "      <td>-0.007704</td>\n",
       "      <td>-0.004778</td>\n",
       "      <td>-0.014089</td>\n",
       "      <td>-0.089486</td>\n",
       "      <td>-0.007736</td>\n",
       "      <td>-0.095075</td>\n",
       "      <td>-0.027023</td>\n",
       "      <td>1.235689</td>\n",
       "      <td>-0.011664</td>\n",
       "      <td>...</td>\n",
       "      <td>0.0</td>\n",
       "      <td>0.0</td>\n",
       "      <td>0.0</td>\n",
       "      <td>0.0</td>\n",
       "      <td>0.0</td>\n",
       "      <td>0.0</td>\n",
       "      <td>0.0</td>\n",
       "      <td>1.0</td>\n",
       "      <td>0.0</td>\n",
       "      <td>0</td>\n",
       "    </tr>\n",
       "    <tr>\n",
       "      <th>1</th>\n",
       "      <td>-0.110249</td>\n",
       "      <td>-0.006536</td>\n",
       "      <td>-0.004919</td>\n",
       "      <td>-0.014089</td>\n",
       "      <td>-0.089486</td>\n",
       "      <td>-0.007736</td>\n",
       "      <td>-0.095075</td>\n",
       "      <td>-0.027023</td>\n",
       "      <td>1.235689</td>\n",
       "      <td>-0.011664</td>\n",
       "      <td>...</td>\n",
       "      <td>0.0</td>\n",
       "      <td>0.0</td>\n",
       "      <td>0.0</td>\n",
       "      <td>0.0</td>\n",
       "      <td>0.0</td>\n",
       "      <td>0.0</td>\n",
       "      <td>0.0</td>\n",
       "      <td>1.0</td>\n",
       "      <td>0.0</td>\n",
       "      <td>0</td>\n",
       "    </tr>\n",
       "    <tr>\n",
       "      <th>2</th>\n",
       "      <td>-0.110249</td>\n",
       "      <td>-0.007724</td>\n",
       "      <td>-0.004845</td>\n",
       "      <td>-0.014089</td>\n",
       "      <td>-0.089486</td>\n",
       "      <td>-0.007736</td>\n",
       "      <td>-0.095075</td>\n",
       "      <td>-0.027023</td>\n",
       "      <td>1.235689</td>\n",
       "      <td>-0.011664</td>\n",
       "      <td>...</td>\n",
       "      <td>0.0</td>\n",
       "      <td>0.0</td>\n",
       "      <td>0.0</td>\n",
       "      <td>0.0</td>\n",
       "      <td>0.0</td>\n",
       "      <td>0.0</td>\n",
       "      <td>0.0</td>\n",
       "      <td>1.0</td>\n",
       "      <td>0.0</td>\n",
       "      <td>0</td>\n",
       "    </tr>\n",
       "    <tr>\n",
       "      <th>3</th>\n",
       "      <td>-0.110249</td>\n",
       "      <td>-0.007757</td>\n",
       "      <td>-0.004919</td>\n",
       "      <td>-0.014089</td>\n",
       "      <td>-0.089486</td>\n",
       "      <td>-0.007736</td>\n",
       "      <td>-0.095075</td>\n",
       "      <td>-0.027023</td>\n",
       "      <td>-0.809259</td>\n",
       "      <td>-0.011664</td>\n",
       "      <td>...</td>\n",
       "      <td>0.0</td>\n",
       "      <td>0.0</td>\n",
       "      <td>0.0</td>\n",
       "      <td>0.0</td>\n",
       "      <td>0.0</td>\n",
       "      <td>0.0</td>\n",
       "      <td>0.0</td>\n",
       "      <td>1.0</td>\n",
       "      <td>0.0</td>\n",
       "      <td>0</td>\n",
       "    </tr>\n",
       "    <tr>\n",
       "      <th>4</th>\n",
       "      <td>-0.110249</td>\n",
       "      <td>-0.007714</td>\n",
       "      <td>-0.002172</td>\n",
       "      <td>-0.014089</td>\n",
       "      <td>-0.089486</td>\n",
       "      <td>-0.007736</td>\n",
       "      <td>-0.095075</td>\n",
       "      <td>-0.027023</td>\n",
       "      <td>1.235689</td>\n",
       "      <td>-0.011664</td>\n",
       "      <td>...</td>\n",
       "      <td>0.0</td>\n",
       "      <td>0.0</td>\n",
       "      <td>0.0</td>\n",
       "      <td>0.0</td>\n",
       "      <td>0.0</td>\n",
       "      <td>0.0</td>\n",
       "      <td>0.0</td>\n",
       "      <td>1.0</td>\n",
       "      <td>0.0</td>\n",
       "      <td>0</td>\n",
       "    </tr>\n",
       "  </tbody>\n",
       "</table>\n",
       "<p>5 rows × 123 columns</p>\n",
       "</div>"
      ],
      "text/plain": [
       "   duration  src_bytes  dst_bytes      land  wrong_fragment    urgent  \\\n",
       "0 -0.110249  -0.007704  -0.004778 -0.014089       -0.089486 -0.007736   \n",
       "1 -0.110249  -0.006536  -0.004919 -0.014089       -0.089486 -0.007736   \n",
       "2 -0.110249  -0.007724  -0.004845 -0.014089       -0.089486 -0.007736   \n",
       "3 -0.110249  -0.007757  -0.004919 -0.014089       -0.089486 -0.007736   \n",
       "4 -0.110249  -0.007714  -0.002172 -0.014089       -0.089486 -0.007736   \n",
       "\n",
       "        hot  num_failed_logins  logged_in  num_compromised     ...       \\\n",
       "0 -0.095075          -0.027023   1.235689        -0.011664     ...        \n",
       "1 -0.095075          -0.027023   1.235689        -0.011664     ...        \n",
       "2 -0.095075          -0.027023   1.235689        -0.011664     ...        \n",
       "3 -0.095075          -0.027023  -0.809259        -0.011664     ...        \n",
       "4 -0.095075          -0.027023   1.235689        -0.011664     ...        \n",
       "\n",
       "   flag_RSTO  flag_RSTOS0  flag_RSTR  flag_S0  flag_S1  flag_S2  flag_S3  \\\n",
       "0        0.0          0.0        0.0      0.0      0.0      0.0      0.0   \n",
       "1        0.0          0.0        0.0      0.0      0.0      0.0      0.0   \n",
       "2        0.0          0.0        0.0      0.0      0.0      0.0      0.0   \n",
       "3        0.0          0.0        0.0      0.0      0.0      0.0      0.0   \n",
       "4        0.0          0.0        0.0      0.0      0.0      0.0      0.0   \n",
       "\n",
       "   flag_SF  flag_SH  attack_type  \n",
       "0      1.0      0.0            0  \n",
       "1      1.0      0.0            0  \n",
       "2      1.0      0.0            0  \n",
       "3      1.0      0.0            0  \n",
       "4      1.0      0.0            0  \n",
       "\n",
       "[5 rows x 123 columns]"
      ]
     },
     "execution_count": 8,
     "metadata": {},
     "output_type": "execute_result"
    }
   ],
   "source": [
    "normaldata_df.head()"
   ]
  },
  {
   "cell_type": "code",
   "execution_count": 9,
   "metadata": {
    "collapsed": false
   },
   "outputs": [
    {
     "data": {
      "text/html": [
       "<div>\n",
       "<table border=\"1\" class=\"dataframe\">\n",
       "  <thead>\n",
       "    <tr style=\"text-align: right;\">\n",
       "      <th></th>\n",
       "      <th>duration</th>\n",
       "      <th>src_bytes</th>\n",
       "      <th>dst_bytes</th>\n",
       "      <th>land</th>\n",
       "      <th>wrong_fragment</th>\n",
       "      <th>urgent</th>\n",
       "      <th>hot</th>\n",
       "      <th>num_failed_logins</th>\n",
       "      <th>logged_in</th>\n",
       "      <th>num_compromised</th>\n",
       "      <th>...</th>\n",
       "      <th>flag_RSTO</th>\n",
       "      <th>flag_RSTOS0</th>\n",
       "      <th>flag_RSTR</th>\n",
       "      <th>flag_S0</th>\n",
       "      <th>flag_S1</th>\n",
       "      <th>flag_S2</th>\n",
       "      <th>flag_S3</th>\n",
       "      <th>flag_SF</th>\n",
       "      <th>flag_SH</th>\n",
       "      <th>attack_type</th>\n",
       "    </tr>\n",
       "  </thead>\n",
       "  <tbody>\n",
       "    <tr>\n",
       "      <th>0</th>\n",
       "      <td>-0.110249</td>\n",
       "      <td>-0.007762</td>\n",
       "      <td>-0.004919</td>\n",
       "      <td>-0.014089</td>\n",
       "      <td>-0.089486</td>\n",
       "      <td>-0.007736</td>\n",
       "      <td>-0.095075</td>\n",
       "      <td>-0.027023</td>\n",
       "      <td>-0.809259</td>\n",
       "      <td>-0.011664</td>\n",
       "      <td>...</td>\n",
       "      <td>0.0</td>\n",
       "      <td>0.0</td>\n",
       "      <td>0.0</td>\n",
       "      <td>1.0</td>\n",
       "      <td>0.0</td>\n",
       "      <td>0.0</td>\n",
       "      <td>0.0</td>\n",
       "      <td>0.0</td>\n",
       "      <td>0.0</td>\n",
       "      <td>1</td>\n",
       "    </tr>\n",
       "    <tr>\n",
       "      <th>1</th>\n",
       "      <td>-0.110249</td>\n",
       "      <td>-0.007762</td>\n",
       "      <td>-0.004919</td>\n",
       "      <td>-0.014089</td>\n",
       "      <td>-0.089486</td>\n",
       "      <td>-0.007736</td>\n",
       "      <td>-0.095075</td>\n",
       "      <td>-0.027023</td>\n",
       "      <td>-0.809259</td>\n",
       "      <td>-0.011664</td>\n",
       "      <td>...</td>\n",
       "      <td>0.0</td>\n",
       "      <td>0.0</td>\n",
       "      <td>0.0</td>\n",
       "      <td>0.0</td>\n",
       "      <td>0.0</td>\n",
       "      <td>0.0</td>\n",
       "      <td>0.0</td>\n",
       "      <td>0.0</td>\n",
       "      <td>0.0</td>\n",
       "      <td>3</td>\n",
       "    </tr>\n",
       "    <tr>\n",
       "      <th>2</th>\n",
       "      <td>-0.110249</td>\n",
       "      <td>-0.007762</td>\n",
       "      <td>-0.004919</td>\n",
       "      <td>-0.014089</td>\n",
       "      <td>-0.089486</td>\n",
       "      <td>-0.007736</td>\n",
       "      <td>-0.095075</td>\n",
       "      <td>-0.027023</td>\n",
       "      <td>-0.809259</td>\n",
       "      <td>-0.011664</td>\n",
       "      <td>...</td>\n",
       "      <td>0.0</td>\n",
       "      <td>0.0</td>\n",
       "      <td>1.0</td>\n",
       "      <td>0.0</td>\n",
       "      <td>0.0</td>\n",
       "      <td>0.0</td>\n",
       "      <td>0.0</td>\n",
       "      <td>0.0</td>\n",
       "      <td>0.0</td>\n",
       "      <td>3</td>\n",
       "    </tr>\n",
       "    <tr>\n",
       "      <th>3</th>\n",
       "      <td>-0.110249</td>\n",
       "      <td>-0.007762</td>\n",
       "      <td>-0.004919</td>\n",
       "      <td>-0.014089</td>\n",
       "      <td>-0.089486</td>\n",
       "      <td>-0.007736</td>\n",
       "      <td>-0.095075</td>\n",
       "      <td>-0.027023</td>\n",
       "      <td>-0.809259</td>\n",
       "      <td>-0.011664</td>\n",
       "      <td>...</td>\n",
       "      <td>0.0</td>\n",
       "      <td>0.0</td>\n",
       "      <td>0.0</td>\n",
       "      <td>1.0</td>\n",
       "      <td>0.0</td>\n",
       "      <td>0.0</td>\n",
       "      <td>0.0</td>\n",
       "      <td>0.0</td>\n",
       "      <td>0.0</td>\n",
       "      <td>1</td>\n",
       "    </tr>\n",
       "    <tr>\n",
       "      <th>4</th>\n",
       "      <td>-0.110249</td>\n",
       "      <td>0.001529</td>\n",
       "      <td>-0.002851</td>\n",
       "      <td>-0.014089</td>\n",
       "      <td>-0.089486</td>\n",
       "      <td>-0.007736</td>\n",
       "      <td>0.835171</td>\n",
       "      <td>-0.027023</td>\n",
       "      <td>1.235689</td>\n",
       "      <td>0.030104</td>\n",
       "      <td>...</td>\n",
       "      <td>0.0</td>\n",
       "      <td>0.0</td>\n",
       "      <td>0.0</td>\n",
       "      <td>0.0</td>\n",
       "      <td>0.0</td>\n",
       "      <td>0.0</td>\n",
       "      <td>0.0</td>\n",
       "      <td>1.0</td>\n",
       "      <td>0.0</td>\n",
       "      <td>1</td>\n",
       "    </tr>\n",
       "  </tbody>\n",
       "</table>\n",
       "<p>5 rows × 123 columns</p>\n",
       "</div>"
      ],
      "text/plain": [
       "   duration  src_bytes  dst_bytes      land  wrong_fragment    urgent  \\\n",
       "0 -0.110249  -0.007762  -0.004919 -0.014089       -0.089486 -0.007736   \n",
       "1 -0.110249  -0.007762  -0.004919 -0.014089       -0.089486 -0.007736   \n",
       "2 -0.110249  -0.007762  -0.004919 -0.014089       -0.089486 -0.007736   \n",
       "3 -0.110249  -0.007762  -0.004919 -0.014089       -0.089486 -0.007736   \n",
       "4 -0.110249   0.001529  -0.002851 -0.014089       -0.089486 -0.007736   \n",
       "\n",
       "        hot  num_failed_logins  logged_in  num_compromised     ...       \\\n",
       "0 -0.095075          -0.027023  -0.809259        -0.011664     ...        \n",
       "1 -0.095075          -0.027023  -0.809259        -0.011664     ...        \n",
       "2 -0.095075          -0.027023  -0.809259        -0.011664     ...        \n",
       "3 -0.095075          -0.027023  -0.809259        -0.011664     ...        \n",
       "4  0.835171          -0.027023   1.235689         0.030104     ...        \n",
       "\n",
       "   flag_RSTO  flag_RSTOS0  flag_RSTR  flag_S0  flag_S1  flag_S2  flag_S3  \\\n",
       "0        0.0          0.0        0.0      1.0      0.0      0.0      0.0   \n",
       "1        0.0          0.0        0.0      0.0      0.0      0.0      0.0   \n",
       "2        0.0          0.0        1.0      0.0      0.0      0.0      0.0   \n",
       "3        0.0          0.0        0.0      1.0      0.0      0.0      0.0   \n",
       "4        0.0          0.0        0.0      0.0      0.0      0.0      0.0   \n",
       "\n",
       "   flag_SF  flag_SH  attack_type  \n",
       "0      0.0      0.0            1  \n",
       "1      0.0      0.0            3  \n",
       "2      0.0      0.0            3  \n",
       "3      0.0      0.0            1  \n",
       "4      1.0      0.0            1  \n",
       "\n",
       "[5 rows x 123 columns]"
      ]
     },
     "execution_count": 9,
     "metadata": {},
     "output_type": "execute_result"
    }
   ],
   "source": [
    "anomalydata_df.head()"
   ]
  },
  {
   "cell_type": "code",
   "execution_count": 10,
   "metadata": {
    "collapsed": false
   },
   "outputs": [
    {
     "data": {
      "text/html": [
       "<div>\n",
       "<table border=\"1\" class=\"dataframe\">\n",
       "  <thead>\n",
       "    <tr style=\"text-align: right;\">\n",
       "      <th></th>\n",
       "      <th>duration</th>\n",
       "      <th>protocol_type</th>\n",
       "      <th>service</th>\n",
       "      <th>flag</th>\n",
       "      <th>src_bytes</th>\n",
       "      <th>dst_bytes</th>\n",
       "      <th>land</th>\n",
       "      <th>wrong_fragment</th>\n",
       "      <th>urgent</th>\n",
       "      <th>hot</th>\n",
       "      <th>...</th>\n",
       "      <th>dst_host_srv_count</th>\n",
       "      <th>dst_host_same_srv_rate</th>\n",
       "      <th>dst_host_diff_srv_rate</th>\n",
       "      <th>dst_host_same_src_port_rate</th>\n",
       "      <th>dst_host_srv_diff_host_rate</th>\n",
       "      <th>dst_host_serror_rate</th>\n",
       "      <th>dst_host_srv_serror_rate</th>\n",
       "      <th>dst_host_rerror_rate</th>\n",
       "      <th>dst_host_srv_rerror_rate</th>\n",
       "      <th>attack_type</th>\n",
       "    </tr>\n",
       "  </thead>\n",
       "  <tbody>\n",
       "    <tr>\n",
       "      <th>17608</th>\n",
       "      <td>0</td>\n",
       "      <td>tcp</td>\n",
       "      <td>http</td>\n",
       "      <td>SF</td>\n",
       "      <td>337</td>\n",
       "      <td>280</td>\n",
       "      <td>0</td>\n",
       "      <td>0</td>\n",
       "      <td>0</td>\n",
       "      <td>0</td>\n",
       "      <td>...</td>\n",
       "      <td>109</td>\n",
       "      <td>0.92</td>\n",
       "      <td>0.02</td>\n",
       "      <td>0.01</td>\n",
       "      <td>0.00</td>\n",
       "      <td>0.01</td>\n",
       "      <td>0.01</td>\n",
       "      <td>0.0</td>\n",
       "      <td>0.0</td>\n",
       "      <td>0</td>\n",
       "    </tr>\n",
       "    <tr>\n",
       "      <th>89051</th>\n",
       "      <td>0</td>\n",
       "      <td>tcp</td>\n",
       "      <td>private</td>\n",
       "      <td>REJ</td>\n",
       "      <td>0</td>\n",
       "      <td>0</td>\n",
       "      <td>0</td>\n",
       "      <td>0</td>\n",
       "      <td>0</td>\n",
       "      <td>0</td>\n",
       "      <td>...</td>\n",
       "      <td>6</td>\n",
       "      <td>0.02</td>\n",
       "      <td>0.06</td>\n",
       "      <td>0.00</td>\n",
       "      <td>0.00</td>\n",
       "      <td>0.00</td>\n",
       "      <td>0.00</td>\n",
       "      <td>1.0</td>\n",
       "      <td>1.0</td>\n",
       "      <td>1</td>\n",
       "    </tr>\n",
       "    <tr>\n",
       "      <th>6354</th>\n",
       "      <td>37370</td>\n",
       "      <td>tcp</td>\n",
       "      <td>private</td>\n",
       "      <td>RSTR</td>\n",
       "      <td>1</td>\n",
       "      <td>0</td>\n",
       "      <td>0</td>\n",
       "      <td>0</td>\n",
       "      <td>0</td>\n",
       "      <td>0</td>\n",
       "      <td>...</td>\n",
       "      <td>2</td>\n",
       "      <td>0.01</td>\n",
       "      <td>0.50</td>\n",
       "      <td>1.00</td>\n",
       "      <td>0.00</td>\n",
       "      <td>0.00</td>\n",
       "      <td>0.00</td>\n",
       "      <td>1.0</td>\n",
       "      <td>1.0</td>\n",
       "      <td>3</td>\n",
       "    </tr>\n",
       "    <tr>\n",
       "      <th>121392</th>\n",
       "      <td>0</td>\n",
       "      <td>tcp</td>\n",
       "      <td>http</td>\n",
       "      <td>SF</td>\n",
       "      <td>249</td>\n",
       "      <td>3997</td>\n",
       "      <td>0</td>\n",
       "      <td>0</td>\n",
       "      <td>0</td>\n",
       "      <td>0</td>\n",
       "      <td>...</td>\n",
       "      <td>255</td>\n",
       "      <td>1.00</td>\n",
       "      <td>0.00</td>\n",
       "      <td>0.01</td>\n",
       "      <td>0.02</td>\n",
       "      <td>0.00</td>\n",
       "      <td>0.00</td>\n",
       "      <td>0.0</td>\n",
       "      <td>0.0</td>\n",
       "      <td>0</td>\n",
       "    </tr>\n",
       "    <tr>\n",
       "      <th>120077</th>\n",
       "      <td>0</td>\n",
       "      <td>tcp</td>\n",
       "      <td>pop_3</td>\n",
       "      <td>SF</td>\n",
       "      <td>35</td>\n",
       "      <td>130</td>\n",
       "      <td>0</td>\n",
       "      <td>0</td>\n",
       "      <td>0</td>\n",
       "      <td>0</td>\n",
       "      <td>...</td>\n",
       "      <td>5</td>\n",
       "      <td>0.03</td>\n",
       "      <td>0.05</td>\n",
       "      <td>0.01</td>\n",
       "      <td>0.40</td>\n",
       "      <td>0.00</td>\n",
       "      <td>0.00</td>\n",
       "      <td>0.0</td>\n",
       "      <td>0.0</td>\n",
       "      <td>0</td>\n",
       "    </tr>\n",
       "  </tbody>\n",
       "</table>\n",
       "<p>5 rows × 42 columns</p>\n",
       "</div>"
      ],
      "text/plain": [
       "        duration protocol_type  service  flag  src_bytes  dst_bytes  land  \\\n",
       "17608          0           tcp     http    SF        337        280     0   \n",
       "89051          0           tcp  private   REJ          0          0     0   \n",
       "6354       37370           tcp  private  RSTR          1          0     0   \n",
       "121392         0           tcp     http    SF        249       3997     0   \n",
       "120077         0           tcp    pop_3    SF         35        130     0   \n",
       "\n",
       "        wrong_fragment  urgent  hot     ...       dst_host_srv_count  \\\n",
       "17608                0       0    0     ...                      109   \n",
       "89051                0       0    0     ...                        6   \n",
       "6354                 0       0    0     ...                        2   \n",
       "121392               0       0    0     ...                      255   \n",
       "120077               0       0    0     ...                        5   \n",
       "\n",
       "        dst_host_same_srv_rate  dst_host_diff_srv_rate  \\\n",
       "17608                     0.92                    0.02   \n",
       "89051                     0.02                    0.06   \n",
       "6354                      0.01                    0.50   \n",
       "121392                    1.00                    0.00   \n",
       "120077                    0.03                    0.05   \n",
       "\n",
       "        dst_host_same_src_port_rate  dst_host_srv_diff_host_rate  \\\n",
       "17608                          0.01                         0.00   \n",
       "89051                          0.00                         0.00   \n",
       "6354                           1.00                         0.00   \n",
       "121392                         0.01                         0.02   \n",
       "120077                         0.01                         0.40   \n",
       "\n",
       "        dst_host_serror_rate  dst_host_srv_serror_rate  dst_host_rerror_rate  \\\n",
       "17608                   0.01                      0.01                   0.0   \n",
       "89051                   0.00                      0.00                   1.0   \n",
       "6354                    0.00                      0.00                   1.0   \n",
       "121392                  0.00                      0.00                   0.0   \n",
       "120077                  0.00                      0.00                   0.0   \n",
       "\n",
       "        dst_host_srv_rerror_rate  attack_type  \n",
       "17608                        0.0            0  \n",
       "89051                        1.0            1  \n",
       "6354                         1.0            3  \n",
       "121392                       0.0            0  \n",
       "120077                       0.0            0  \n",
       "\n",
       "[5 rows x 42 columns]"
      ]
     },
     "execution_count": 10,
     "metadata": {},
     "output_type": "execute_result"
    }
   ],
   "source": [
    "testdata.head()"
   ]
  },
  {
   "cell_type": "markdown",
   "metadata": {},
   "source": [
    "#### 3. 異常資料分群"
   ]
  },
  {
   "cell_type": "code",
   "execution_count": 11,
   "metadata": {
    "collapsed": false
   },
   "outputs": [],
   "source": [
    "K = 3 #分幾群\n",
    "kmeans = KMeans(n_clusters=K, random_state=0).fit(anomalydata_df.iloc[:,:anomalydata_df.shape[1]-1])\n",
    "clustors = kmeans.predict(anomalydata_df.iloc[:,:anomalydata_df.shape[1]-1])"
   ]
  },
  {
   "cell_type": "code",
   "execution_count": 12,
   "metadata": {
    "collapsed": false,
    "scrolled": true
   },
   "outputs": [
    {
     "data": {
      "text/plain": [
       "[<matplotlib.text.Text at 0x1104e1050>,\n",
       " <matplotlib.text.Text at 0x1104e91d0>,\n",
       " <matplotlib.text.Text at 0x11056ab10>]"
      ]
     },
     "execution_count": 12,
     "metadata": {},
     "output_type": "execute_result"
    },
    {
     "data": {
      "image/png": "[encoded data removed]",
      "text/plain": [
       "<matplotlib.figure.Figure at 0x11048a150>"
      ]
     },
     "metadata": {},
     "output_type": "display_data"
    }
   ],
   "source": [
    "plt.figure(figsize = (12, 6))\n",
    "ax = sns.barplot(x=range(0, len(pd.Series(clustors).value_counts())), y=pd.Series(clustors).value_counts().tolist())\n",
    "plt.legend(pd.Series(clustors).value_counts().index.tolist(),loc=0)\n",
    "ax.set_xticklabels(pd.Series(clustors).value_counts().index.tolist())"
   ]
  },
  {
   "cell_type": "markdown",
   "metadata": {},
   "source": [
    "有一群特別多，但還算是可接受的範圍"
   ]
  },
  {
   "cell_type": "code",
   "execution_count": 13,
   "metadata": {
    "collapsed": false
   },
   "outputs": [],
   "source": [
    "try:\n",
    "    anomalydata_df = anomalydata_df.drop(['clusters'], axis = 1)\n",
    "except:\n",
    "    pass\n",
    "anomalydata_df.insert(0, 'clusters', pd.Series(clustors, dtype=np.int64))"
   ]
  },
  {
   "cell_type": "code",
   "execution_count": 14,
   "metadata": {
    "collapsed": false
   },
   "outputs": [],
   "source": [
    "cluster_df = []\n",
    "for cluster in sorted(anomalydata_df['clusters'].unique()):\n",
    "    node = anomalydata_df[anomalydata_df['clusters']==cluster]\n",
    "    node = node.drop(['clusters'], axis=1)\n",
    "    cluster_df.append(node)"
   ]
  },
  {
   "cell_type": "markdown",
   "metadata": {},
   "source": [
    "###### 檢視各群的攻擊型態分佈"
   ]
  },
  {
   "cell_type": "code",
   "execution_count": 15,
   "metadata": {
    "collapsed": false
   },
   "outputs": [
    {
     "data": {
      "image/png": "[encoded data removed]",
      "text/plain": [
       "<matplotlib.figure.Figure at 0x1114aaa90>"
      ]
     },
     "metadata": {},
     "output_type": "display_data"
    }
   ],
   "source": [
    "fig, ax = plt.subplots(len(cluster_df), 1, figsize = (12, len(cluster_df) * 7))\n",
    "for index, cluster in enumerate(cluster_df):\n",
    "    sns.barplot(x=range(0, len(cluster['attack_type'].value_counts()))\\\n",
    "                     , y=(cluster['attack_type'].value_counts().sort_index()).tolist()\\\n",
    "                     , ax = ax[index])\n",
    "    attack_t = [attack_type_list[i] for i in cluster['attack_type'].value_counts().sort_index().index]\n",
    "    ax[index].set_xticklabels(attack_t)\n",
    "    ax[index].set_xlabel(\"Clustor%d\" % index)"
   ]
  },
  {
   "cell_type": "markdown",
   "metadata": {},
   "source": [
    "#### 4. 正常資料與異常合併"
   ]
  },
  {
   "cell_type": "code",
   "execution_count": 16,
   "metadata": {
    "collapsed": true
   },
   "outputs": [],
   "source": [
    "for index in range(0, len(cluster_df)):\n",
    "    df = pd.concat([cluster_df[0], normaldata_df], ignore_index = True)\n",
    "    cluster_df[index] = pd.concat([cluster_df[index], normaldata_df], ignore_index = True)\n",
    "    cluster_df[index] = cluster_df[index].iloc[np.random.permutation(len(cluster_df[index]))]\n",
    "    cluster_df[index].index = range(0, len(cluster_df[index]))"
   ]
  },
  {
   "cell_type": "code",
   "execution_count": 17,
   "metadata": {
    "collapsed": false
   },
   "outputs": [
    {
     "data": {
      "image/png": "[encoded data removed]",
      "text/plain": [
       "<matplotlib.figure.Figure at 0x112710ed0>"
      ]
     },
     "metadata": {},
     "output_type": "display_data"
    }
   ],
   "source": [
    "fig, ax = plt.subplots(len(cluster_df), 1, figsize = (12, len(cluster_df) * 7))\n",
    "for index, cluster in enumerate(cluster_df):\n",
    "    sns.barplot(x=range(0, len(cluster['attack_type'].value_counts().sort_index()))\\\n",
    "                     , y=(cluster['attack_type'].value_counts().sort_index()).tolist()\\\n",
    "                     , ax = ax[index])\n",
    "    attack_t = [attack_type_list[i] for i in cluster['attack_type'].value_counts().sort_index().index]\n",
    "    ax[index].set_xticklabels(attack_t)\n",
    "    ax[index].set_xlabel(\"Clustor%d\" % index)"
   ]
  },
  {
   "cell_type": "markdown",
   "metadata": {},
   "source": [
    "## 針對資料進行學習"
   ]
  },
  {
   "cell_type": "code",
   "execution_count": 18,
   "metadata": {
    "collapsed": false
   },
   "outputs": [
    {
     "data": {
      "text/html": [
       "<div>\n",
       "<table border=\"1\" class=\"dataframe\">\n",
       "  <thead>\n",
       "    <tr style=\"text-align: right;\">\n",
       "      <th></th>\n",
       "      <th>duration</th>\n",
       "      <th>src_bytes</th>\n",
       "      <th>dst_bytes</th>\n",
       "      <th>land</th>\n",
       "      <th>wrong_fragment</th>\n",
       "      <th>urgent</th>\n",
       "      <th>hot</th>\n",
       "      <th>num_failed_logins</th>\n",
       "      <th>logged_in</th>\n",
       "      <th>num_compromised</th>\n",
       "      <th>...</th>\n",
       "      <th>flag_RSTO</th>\n",
       "      <th>flag_RSTOS0</th>\n",
       "      <th>flag_RSTR</th>\n",
       "      <th>flag_S0</th>\n",
       "      <th>flag_S1</th>\n",
       "      <th>flag_S2</th>\n",
       "      <th>flag_S3</th>\n",
       "      <th>flag_SF</th>\n",
       "      <th>flag_SH</th>\n",
       "      <th>attack_type</th>\n",
       "    </tr>\n",
       "  </thead>\n",
       "  <tbody>\n",
       "    <tr>\n",
       "      <th>93269</th>\n",
       "      <td>-0.110249</td>\n",
       "      <td>-0.007762</td>\n",
       "      <td>-0.004919</td>\n",
       "      <td>-0.014089</td>\n",
       "      <td>-0.089486</td>\n",
       "      <td>-0.007736</td>\n",
       "      <td>-0.095075</td>\n",
       "      <td>-0.027023</td>\n",
       "      <td>-0.809259</td>\n",
       "      <td>-0.011664</td>\n",
       "      <td>...</td>\n",
       "      <td>0.0</td>\n",
       "      <td>0.0</td>\n",
       "      <td>0.0</td>\n",
       "      <td>1.0</td>\n",
       "      <td>0.0</td>\n",
       "      <td>0.0</td>\n",
       "      <td>0.0</td>\n",
       "      <td>0.0</td>\n",
       "      <td>0.0</td>\n",
       "      <td>1</td>\n",
       "    </tr>\n",
       "    <tr>\n",
       "      <th>83421</th>\n",
       "      <td>-0.110249</td>\n",
       "      <td>-0.007762</td>\n",
       "      <td>-0.004919</td>\n",
       "      <td>-0.014089</td>\n",
       "      <td>-0.089486</td>\n",
       "      <td>-0.007736</td>\n",
       "      <td>-0.095075</td>\n",
       "      <td>-0.027023</td>\n",
       "      <td>-0.809259</td>\n",
       "      <td>-0.011664</td>\n",
       "      <td>...</td>\n",
       "      <td>0.0</td>\n",
       "      <td>0.0</td>\n",
       "      <td>0.0</td>\n",
       "      <td>0.0</td>\n",
       "      <td>0.0</td>\n",
       "      <td>0.0</td>\n",
       "      <td>0.0</td>\n",
       "      <td>0.0</td>\n",
       "      <td>0.0</td>\n",
       "      <td>3</td>\n",
       "    </tr>\n",
       "    <tr>\n",
       "      <th>102525</th>\n",
       "      <td>-0.110249</td>\n",
       "      <td>-0.007762</td>\n",
       "      <td>-0.004919</td>\n",
       "      <td>-0.014089</td>\n",
       "      <td>-0.089486</td>\n",
       "      <td>-0.007736</td>\n",
       "      <td>-0.095075</td>\n",
       "      <td>-0.027023</td>\n",
       "      <td>-0.809259</td>\n",
       "      <td>-0.011664</td>\n",
       "      <td>...</td>\n",
       "      <td>0.0</td>\n",
       "      <td>0.0</td>\n",
       "      <td>1.0</td>\n",
       "      <td>0.0</td>\n",
       "      <td>0.0</td>\n",
       "      <td>0.0</td>\n",
       "      <td>0.0</td>\n",
       "      <td>0.0</td>\n",
       "      <td>0.0</td>\n",
       "      <td>3</td>\n",
       "    </tr>\n",
       "    <tr>\n",
       "      <th>95020</th>\n",
       "      <td>-0.110249</td>\n",
       "      <td>-0.007704</td>\n",
       "      <td>-0.004778</td>\n",
       "      <td>-0.014089</td>\n",
       "      <td>-0.089486</td>\n",
       "      <td>-0.007736</td>\n",
       "      <td>-0.095075</td>\n",
       "      <td>-0.027023</td>\n",
       "      <td>1.235689</td>\n",
       "      <td>-0.011664</td>\n",
       "      <td>...</td>\n",
       "      <td>0.0</td>\n",
       "      <td>0.0</td>\n",
       "      <td>0.0</td>\n",
       "      <td>0.0</td>\n",
       "      <td>0.0</td>\n",
       "      <td>0.0</td>\n",
       "      <td>0.0</td>\n",
       "      <td>1.0</td>\n",
       "      <td>0.0</td>\n",
       "      <td>0</td>\n",
       "    </tr>\n",
       "    <tr>\n",
       "      <th>49670</th>\n",
       "      <td>-0.110249</td>\n",
       "      <td>-0.006536</td>\n",
       "      <td>-0.004919</td>\n",
       "      <td>-0.014089</td>\n",
       "      <td>-0.089486</td>\n",
       "      <td>-0.007736</td>\n",
       "      <td>-0.095075</td>\n",
       "      <td>-0.027023</td>\n",
       "      <td>1.235689</td>\n",
       "      <td>-0.011664</td>\n",
       "      <td>...</td>\n",
       "      <td>0.0</td>\n",
       "      <td>0.0</td>\n",
       "      <td>0.0</td>\n",
       "      <td>0.0</td>\n",
       "      <td>0.0</td>\n",
       "      <td>0.0</td>\n",
       "      <td>0.0</td>\n",
       "      <td>1.0</td>\n",
       "      <td>0.0</td>\n",
       "      <td>0</td>\n",
       "    </tr>\n",
       "  </tbody>\n",
       "</table>\n",
       "<p>5 rows × 123 columns</p>\n",
       "</div>"
      ],
      "text/plain": [
       "        duration  src_bytes  dst_bytes      land  wrong_fragment    urgent  \\\n",
       "93269  -0.110249  -0.007762  -0.004919 -0.014089       -0.089486 -0.007736   \n",
       "83421  -0.110249  -0.007762  -0.004919 -0.014089       -0.089486 -0.007736   \n",
       "102525 -0.110249  -0.007762  -0.004919 -0.014089       -0.089486 -0.007736   \n",
       "95020  -0.110249  -0.007704  -0.004778 -0.014089       -0.089486 -0.007736   \n",
       "49670  -0.110249  -0.006536  -0.004919 -0.014089       -0.089486 -0.007736   \n",
       "\n",
       "             hot  num_failed_logins  logged_in  num_compromised     ...       \\\n",
       "93269  -0.095075          -0.027023  -0.809259        -0.011664     ...        \n",
       "83421  -0.095075          -0.027023  -0.809259        -0.011664     ...        \n",
       "102525 -0.095075          -0.027023  -0.809259        -0.011664     ...        \n",
       "95020  -0.095075          -0.027023   1.235689        -0.011664     ...        \n",
       "49670  -0.095075          -0.027023   1.235689        -0.011664     ...        \n",
       "\n",
       "        flag_RSTO  flag_RSTOS0  flag_RSTR  flag_S0  flag_S1  flag_S2  flag_S3  \\\n",
       "93269         0.0          0.0        0.0      1.0      0.0      0.0      0.0   \n",
       "83421         0.0          0.0        0.0      0.0      0.0      0.0      0.0   \n",
       "102525        0.0          0.0        1.0      0.0      0.0      0.0      0.0   \n",
       "95020         0.0          0.0        0.0      0.0      0.0      0.0      0.0   \n",
       "49670         0.0          0.0        0.0      0.0      0.0      0.0      0.0   \n",
       "\n",
       "        flag_SF  flag_SH  attack_type  \n",
       "93269       0.0      0.0            1  \n",
       "83421       0.0      0.0            3  \n",
       "102525      0.0      0.0            3  \n",
       "95020       1.0      0.0            0  \n",
       "49670       1.0      0.0            0  \n",
       "\n",
       "[5 rows x 123 columns]"
      ]
     },
     "execution_count": 18,
     "metadata": {},
     "output_type": "execute_result"
    }
   ],
   "source": [
    "traindata_df.head()"
   ]
  },
  {
   "cell_type": "code",
   "execution_count": 19,
   "metadata": {
    "collapsed": false
   },
   "outputs": [
    {
     "data": {
      "text/html": [
       "<div>\n",
       "<table border=\"1\" class=\"dataframe\">\n",
       "  <thead>\n",
       "    <tr style=\"text-align: right;\">\n",
       "      <th></th>\n",
       "      <th>duration</th>\n",
       "      <th>src_bytes</th>\n",
       "      <th>dst_bytes</th>\n",
       "      <th>land</th>\n",
       "      <th>wrong_fragment</th>\n",
       "      <th>urgent</th>\n",
       "      <th>hot</th>\n",
       "      <th>num_failed_logins</th>\n",
       "      <th>logged_in</th>\n",
       "      <th>num_compromised</th>\n",
       "      <th>...</th>\n",
       "      <th>flag_RSTO</th>\n",
       "      <th>flag_RSTOS0</th>\n",
       "      <th>flag_RSTR</th>\n",
       "      <th>flag_S0</th>\n",
       "      <th>flag_S1</th>\n",
       "      <th>flag_S2</th>\n",
       "      <th>flag_S3</th>\n",
       "      <th>flag_SF</th>\n",
       "      <th>flag_SH</th>\n",
       "      <th>attack_type</th>\n",
       "    </tr>\n",
       "  </thead>\n",
       "  <tbody>\n",
       "    <tr>\n",
       "      <th>17608</th>\n",
       "      <td>-0.110249</td>\n",
       "      <td>-0.007705</td>\n",
       "      <td>-0.004849</td>\n",
       "      <td>-0.014089</td>\n",
       "      <td>-0.089486</td>\n",
       "      <td>-0.007736</td>\n",
       "      <td>-0.095075</td>\n",
       "      <td>-0.027023</td>\n",
       "      <td>1.235689</td>\n",
       "      <td>-0.011664</td>\n",
       "      <td>...</td>\n",
       "      <td>0.0</td>\n",
       "      <td>0.0</td>\n",
       "      <td>0.0</td>\n",
       "      <td>0.0</td>\n",
       "      <td>0.0</td>\n",
       "      <td>0.0</td>\n",
       "      <td>0.0</td>\n",
       "      <td>1.0</td>\n",
       "      <td>0.0</td>\n",
       "      <td>0</td>\n",
       "    </tr>\n",
       "    <tr>\n",
       "      <th>89051</th>\n",
       "      <td>-0.110249</td>\n",
       "      <td>-0.007762</td>\n",
       "      <td>-0.004919</td>\n",
       "      <td>-0.014089</td>\n",
       "      <td>-0.089486</td>\n",
       "      <td>-0.007736</td>\n",
       "      <td>-0.095075</td>\n",
       "      <td>-0.027023</td>\n",
       "      <td>-0.809259</td>\n",
       "      <td>-0.011664</td>\n",
       "      <td>...</td>\n",
       "      <td>0.0</td>\n",
       "      <td>0.0</td>\n",
       "      <td>0.0</td>\n",
       "      <td>0.0</td>\n",
       "      <td>0.0</td>\n",
       "      <td>0.0</td>\n",
       "      <td>0.0</td>\n",
       "      <td>0.0</td>\n",
       "      <td>0.0</td>\n",
       "      <td>1</td>\n",
       "    </tr>\n",
       "    <tr>\n",
       "      <th>6354</th>\n",
       "      <td>14.237910</td>\n",
       "      <td>-0.007762</td>\n",
       "      <td>-0.004919</td>\n",
       "      <td>-0.014089</td>\n",
       "      <td>-0.089486</td>\n",
       "      <td>-0.007736</td>\n",
       "      <td>-0.095075</td>\n",
       "      <td>-0.027023</td>\n",
       "      <td>-0.809259</td>\n",
       "      <td>-0.011664</td>\n",
       "      <td>...</td>\n",
       "      <td>0.0</td>\n",
       "      <td>0.0</td>\n",
       "      <td>1.0</td>\n",
       "      <td>0.0</td>\n",
       "      <td>0.0</td>\n",
       "      <td>0.0</td>\n",
       "      <td>0.0</td>\n",
       "      <td>0.0</td>\n",
       "      <td>0.0</td>\n",
       "      <td>3</td>\n",
       "    </tr>\n",
       "    <tr>\n",
       "      <th>121392</th>\n",
       "      <td>-0.110249</td>\n",
       "      <td>-0.007720</td>\n",
       "      <td>-0.003925</td>\n",
       "      <td>-0.014089</td>\n",
       "      <td>-0.089486</td>\n",
       "      <td>-0.007736</td>\n",
       "      <td>-0.095075</td>\n",
       "      <td>-0.027023</td>\n",
       "      <td>1.235689</td>\n",
       "      <td>-0.011664</td>\n",
       "      <td>...</td>\n",
       "      <td>0.0</td>\n",
       "      <td>0.0</td>\n",
       "      <td>0.0</td>\n",
       "      <td>0.0</td>\n",
       "      <td>0.0</td>\n",
       "      <td>0.0</td>\n",
       "      <td>0.0</td>\n",
       "      <td>1.0</td>\n",
       "      <td>0.0</td>\n",
       "      <td>0</td>\n",
       "    </tr>\n",
       "    <tr>\n",
       "      <th>120077</th>\n",
       "      <td>-0.110249</td>\n",
       "      <td>-0.007756</td>\n",
       "      <td>-0.004886</td>\n",
       "      <td>-0.014089</td>\n",
       "      <td>-0.089486</td>\n",
       "      <td>-0.007736</td>\n",
       "      <td>-0.095075</td>\n",
       "      <td>-0.027023</td>\n",
       "      <td>1.235689</td>\n",
       "      <td>-0.011664</td>\n",
       "      <td>...</td>\n",
       "      <td>0.0</td>\n",
       "      <td>0.0</td>\n",
       "      <td>0.0</td>\n",
       "      <td>0.0</td>\n",
       "      <td>0.0</td>\n",
       "      <td>0.0</td>\n",
       "      <td>0.0</td>\n",
       "      <td>1.0</td>\n",
       "      <td>0.0</td>\n",
       "      <td>0</td>\n",
       "    </tr>\n",
       "  </tbody>\n",
       "</table>\n",
       "<p>5 rows × 123 columns</p>\n",
       "</div>"
      ],
      "text/plain": [
       "         duration  src_bytes  dst_bytes      land  wrong_fragment    urgent  \\\n",
       "17608   -0.110249  -0.007705  -0.004849 -0.014089       -0.089486 -0.007736   \n",
       "89051   -0.110249  -0.007762  -0.004919 -0.014089       -0.089486 -0.007736   \n",
       "6354    14.237910  -0.007762  -0.004919 -0.014089       -0.089486 -0.007736   \n",
       "121392  -0.110249  -0.007720  -0.003925 -0.014089       -0.089486 -0.007736   \n",
       "120077  -0.110249  -0.007756  -0.004886 -0.014089       -0.089486 -0.007736   \n",
       "\n",
       "             hot  num_failed_logins  logged_in  num_compromised     ...       \\\n",
       "17608  -0.095075          -0.027023   1.235689        -0.011664     ...        \n",
       "89051  -0.095075          -0.027023  -0.809259        -0.011664     ...        \n",
       "6354   -0.095075          -0.027023  -0.809259        -0.011664     ...        \n",
       "121392 -0.095075          -0.027023   1.235689        -0.011664     ...        \n",
       "120077 -0.095075          -0.027023   1.235689        -0.011664     ...        \n",
       "\n",
       "        flag_RSTO  flag_RSTOS0  flag_RSTR  flag_S0  flag_S1  flag_S2  flag_S3  \\\n",
       "17608         0.0          0.0        0.0      0.0      0.0      0.0      0.0   \n",
       "89051         0.0          0.0        0.0      0.0      0.0      0.0      0.0   \n",
       "6354          0.0          0.0        1.0      0.0      0.0      0.0      0.0   \n",
       "121392        0.0          0.0        0.0      0.0      0.0      0.0      0.0   \n",
       "120077        0.0          0.0        0.0      0.0      0.0      0.0      0.0   \n",
       "\n",
       "        flag_SF  flag_SH  attack_type  \n",
       "17608       1.0      0.0            0  \n",
       "89051       0.0      0.0            1  \n",
       "6354        0.0      0.0            3  \n",
       "121392      1.0      0.0            0  \n",
       "120077      1.0      0.0            0  \n",
       "\n",
       "[5 rows x 123 columns]"
      ]
     },
     "execution_count": 19,
     "metadata": {},
     "output_type": "execute_result"
    }
   ],
   "source": [
    "testdata_df.head()"
   ]
  },
  {
   "cell_type": "markdown",
   "metadata": {},
   "source": [
    "###### 衡量方法 - 利用混淆矩陣"
   ]
  },
  {
   "cell_type": "code",
   "execution_count": 20,
   "metadata": {
    "collapsed": false
   },
   "outputs": [
    {
     "data": {
      "image/jpeg": "[encoded data removed]",
      "text/plain": [
       "<IPython.core.display.Image object>"
      ]
     },
     "execution_count": 20,
     "metadata": {},
     "output_type": "execute_result"
    }
   ],
   "source": [
    "from IPython.display import Image\n",
    "Image(filename='img/tpfpfntn.jpg')"
   ]
  },
  {
   "cell_type": "markdown",
   "metadata": {},
   "source": [
    "$$Recall = \\frac{TN}{TN+FN}$$"
   ]
  },
  {
   "cell_type": "code",
   "execution_count": 21,
   "metadata": {
    "collapsed": true
   },
   "outputs": [],
   "source": [
    "def score(m):\n",
    "    tp = m[0][0]\n",
    "    fp = m[0][1]\n",
    "    fn = m[1][0]\n",
    "    tn = m[1][1]\n",
    "    recall = 1. * tn / (tn + fp)\n",
    "    accuracy = float(tp + tn) / (tp + fp + tn + fn)\n",
    "    \n",
    "    return accuracy, recall\n",
    "def plot_confusion_matrix(cm, title='Confusion Metrix', cmap=plt.cm.Blues):\n",
    "    plt.imshow(cm, interpolation='nearest', cmap=cmap)\n",
    "    plt.title(title)\n",
    "    plt.colorbar()\n",
    "    tick_marks = range(0, 2)\n",
    "    plt.xticks(tick_marks, ['normal', 'anomaly'], rotation=45)\n",
    "    plt.yticks(tick_marks, ['normal', 'anomaly'])\n",
    "    plt.tight_layout()\n",
    "    plt.grid(False)\n",
    "    thresh = cm.max() / 2.\n",
    "    for i, j in itertools.product(range(cm.shape[0]), range(cm.shape[1])):\n",
    "        plt.text(j, i, cm[i, j],\n",
    "                 horizontalalignment=\"center\",\n",
    "                 color=\"white\" if cm[i, j] > thresh else \"black\")\n",
    "    plt.ylabel('Predicted label')\n",
    "    plt.xlabel('True label')"
   ]
  },
  {
   "cell_type": "markdown",
   "metadata": {},
   "source": [
    "#### 1. 最簡單的分類器\n",
    "新增三個對照組"
   ]
  },
  {
   "cell_type": "code",
   "execution_count": 22,
   "metadata": {
    "collapsed": false
   },
   "outputs": [
    {
     "name": "stdout",
     "output_type": "stream",
     "text": [
      "LogisticRegression分類器 準確度：0.983850\n",
      "LogisticRegression分類器 recall：0.978505\n",
      "\n",
      "\n",
      "GaussianNB分類器 準確度：0.716900\n",
      "GaussianNB分類器 recall：0.815332\n",
      "\n",
      "\n",
      "DecisionTreeClassifier分類器 準確度：0.969600\n",
      "DecisionTreeClassifier分類器 recall：0.954363\n",
      "\n",
      "\n"
     ]
    },
    {
     "data": {
      "image/png": "[encoded data removed]",
      "text/plain": [
       "<matplotlib.figure.Figure at 0x100576b10>"
      ]
     },
     "metadata": {},
     "output_type": "display_data"
    },
    {
     "data": {
      "image/png": "[encoded data removed]",
      "text/plain": [
       "<matplotlib.figure.Figure at 0x113708610>"
      ]
     },
     "metadata": {},
     "output_type": "display_data"
    },
    {
     "data": {
      "image/png": "[encoded data removed]",
      "text/plain": [
       "<matplotlib.figure.Figure at 0x1130f1150>"
      ]
     },
     "metadata": {},
     "output_type": "display_data"
    }
   ],
   "source": [
    "train_x = traindata_df.drop(['attack_type'], axis = 1).values\n",
    "train_y = traindata_df['attack_type'].values\n",
    "test_x = testdata_df.drop(['attack_type'], axis = 1).values\n",
    "answer = testdata_df['attack_type'].values\n",
    "answer = np.array([0 if a == 0 else 1 for a in answer])\n",
    "\n",
    "clfs = [\n",
    "    LogisticRegression(),\n",
    "    GaussianNB(),\n",
    "    DecisionTreeClassifier(max_depth=3)\n",
    "]\n",
    "\n",
    "for index, clf in enumerate(clfs):\n",
    "    clf.fit(train_x, train_y)\n",
    "    predict = clf.predict(test_x)\n",
    "    predict = np.array([0 if p == 0 else 1 for p in predict])\n",
    "    cfu_metrix = metrics.confusion_matrix(answer, predict).T\n",
    "    accuracy, recall = score(cfu_metrix)\n",
    "\n",
    "    print \"%s分類器 準確度：%f\" % (str(type(clf).__name__), accuracy)\n",
    "    print \"%s分類器 recall：%f\" % (str(type(clf).__name__), recall)\n",
    "    print '\\n'\n",
    "\n",
    "    plt.figure()\n",
    "    plot_confusion_matrix(cfu_metrix, str(type(clf).__name__))"
   ]
  },
  {
   "cell_type": "markdown",
   "metadata": {},
   "source": [
    "###### 分層訓練"
   ]
  },
  {
   "cell_type": "code",
   "execution_count": 23,
   "metadata": {
    "collapsed": false
   },
   "outputs": [],
   "source": [
    "en_clf_list = []\n",
    "for index in range(0, len(cluster_df)):\n",
    "    clf_cluster = [\n",
    "        RandomForestClassifier( n_jobs=-1),\n",
    "        BaggingClassifier(base_estimator=LogisticRegression()),\n",
    "        BaggingClassifier(base_estimator=DecisionTreeClassifier()),\n",
    "    ]\n",
    "    \n",
    "    train_y = cluster_df[index]['attack_type'].values\n",
    "    train_x = cluster_df[index].drop(['attack_type'], axis = 1).values\n",
    "    \n",
    "    en = EnsembleClassifier(clf_cluster)\n",
    "    en.fit(train_x, train_y)\n",
    "    en_clf_list.append(en)"
   ]
  },
  {
   "cell_type": "markdown",
   "metadata": {},
   "source": [
    "###### 分層預測"
   ]
  },
  {
   "cell_type": "code",
   "execution_count": 24,
   "metadata": {
    "collapsed": false
   },
   "outputs": [],
   "source": [
    "test_x = testdata_df.drop(['attack_type'], axis = 1).values\n",
    "answer = testdata_df['attack_type'].values\n",
    "prediction = []\n",
    "normal_index = []\n",
    "\n",
    "for index in range(0, len(en_clf_list)):\n",
    "    predict = en_clf_list[index].predict(test_x)\n",
    "    normal_index.append(np.where(predict == attack_type_list.index('normal'))[0])\n",
    "    \n",
    "    test_x = test_x[normal_index[index]]\n",
    "    answer = answer[normal_index[index]]"
   ]
  },
  {
   "cell_type": "code",
   "execution_count": 25,
   "metadata": {
    "collapsed": false
   },
   "outputs": [],
   "source": [
    "answer = testdata_df['attack_type'].values\n",
    "pre = normal_index[0][normal_index[1][normal_index[2]]]\n",
    "predict = []\n",
    "for i in range(0, len(answer)):\n",
    "    if i in pre:\n",
    "        predict.append(attack_type_list.index('normal'))\n",
    "    else:\n",
    "        predict.append(1)\n",
    "predict = np.array(predict)\n",
    "answer = np.array([0 if a == 0 else 1 for a in answer])"
   ]
  },
  {
   "cell_type": "markdown",
   "metadata": {},
   "source": [
    "##### 經過多層次分類器預測後的準確機率"
   ]
  },
  {
   "cell_type": "code",
   "execution_count": 26,
   "metadata": {
    "collapsed": false
   },
   "outputs": [
    {
     "name": "stdout",
     "output_type": "stream",
     "text": [
      "準確度：0.998200\n",
      "recall：0.996717\n"
     ]
    },
    {
     "data": {
      "image/png": "[encoded data removed]",
      "text/plain": [
       "<matplotlib.figure.Figure at 0x113617e50>"
      ]
     },
     "metadata": {},
     "output_type": "display_data"
    }
   ],
   "source": [
    "# 預測準確的資料長度 / 測試資料的長度\n",
    "cfu_metrix = metrics.confusion_matrix(answer, predict).T\n",
    "accuracy, recall = score(cfu_metrix)\n",
    "\n",
    "print \"準確度：%f\" % accuracy\n",
    "print \"recall：%f\" % recall\n",
    "plt.figure()\n",
    "plot_confusion_matrix(cfu_metrix)"
   ]
  },
  {
   "cell_type": "code",
   "execution_count": 27,
   "metadata": {
    "collapsed": false
   },
   "outputs": [],
   "source": [
    "#bot.sendMessage('252175743', '多層次分類器運算完了')"
   ]
  }
 ],
 "metadata": {
  "kernelspec": {
   "display_name": "Python 2",
   "language": "python",
   "name": "python2"
  },
  "language_info": {
   "codemirror_mode": {
    "name": "ipython",
    "version": 2
   },
   "file_extension": ".py",
   "mimetype": "text/x-python",
   "name": "python",
   "nbconvert_exporter": "python",
   "pygments_lexer": "ipython2",
   "version": "2.7.12"
  }
 },
 "nbformat": 4,
 "nbformat_minor": 0
}

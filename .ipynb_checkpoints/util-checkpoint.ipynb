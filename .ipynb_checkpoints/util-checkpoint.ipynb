{
 "cells": [
  {
   "cell_type": "code",
   "execution_count": 1,
   "metadata": {
    "collapsed": true
   },
   "outputs": [],
   "source": [
    "import pandas as pd"
   ]
  },
  {
   "cell_type": "code",
   "execution_count": 2,
   "metadata": {
    "collapsed": true
   },
   "outputs": [],
   "source": [
    "class Proccessor:\n",
    "    @staticmethod\n",
    "    def cleanData(file_name, ):\n",
    "        data = pd.read_csv(trainFid, sep=\",\", header = None)\n",
    "        data.columns = [\"duration\", \"protocol_type\", \"service\", \"flag\" ,\"src_bytes\"\n",
    "                , \"dst_bytes\", \"land\", \"wrong_fragment\", \"urgent\"\n",
    "                , \"hot\", \"num_failed_logins\", \"logged_in\", \"num_compromised\"\n",
    "                , \"root_shell\", \"su_attempted\", \"num_root\", \"num_file_creations\"\n",
    "                , \"num_shells\", \"num_access_files\", \"num_outbound_cmds\", \"is_host_login\"\n",
    "                , \"is_guest_login\", \"count\", \"srv_count\", \"serror_rate\"\n",
    "                , \"srv_serror_rate\", \"rerror_rate\", \"srv_rerror_rate\", \"same_srv_rate\"\n",
    "                , \"diff_srv_rate\", \"srv_diff_host_rate\", \"dst_host_count\", \"dst_host_srv_count\"\n",
    "                , \"dst_host_same_srv_rate\", \"dst_host_diff_srv_rate\", \"dst_host_same_src_port_rate\", \"dst_host_srv_diff_host_rate\"\n",
    "                , \"dst_host_serror_rate\", \"dst_host_srv_serror_rate\", \"dst_host_rerror_rate\", \"dst_host_srv_rerror_rate\"\n",
    "                , \"class\", \"unknown\"]\n",
    "        data = data.drop(['unknown'], axis = 1)\n",
    "        data['isAnomaly'] = 1 * (data['class'] == 'normal')\n",
    "        data = data.drop(['class'], axis = 1)\n",
    "        return data"
   ]
  }
 ],
 "metadata": {
  "kernelspec": {
   "display_name": "Python 2",
   "language": "python",
   "name": "python2"
  },
  "language_info": {
   "codemirror_mode": {
    "name": "ipython",
    "version": 2
   },
   "file_extension": ".py",
   "mimetype": "text/x-python",
   "name": "python",
   "nbconvert_exporter": "python",
   "pygments_lexer": "ipython2",
   "version": "2.7.12"
  }
 },
 "nbformat": 4,
 "nbformat_minor": 0
}

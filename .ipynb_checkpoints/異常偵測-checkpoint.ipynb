{
 "cells": [
  {
   "cell_type": "code",
   "execution_count": 1,
   "metadata": {
    "collapsed": false
   },
   "outputs": [],
   "source": [
    "from sklearn import svm,cross_validation,tree,linear_model,preprocessing,metrics\n",
    "from sklearn.mixture import GMM\n",
    "from sklearn.grid_search import GridSearchCV\n",
    "from sklearn.neighbors import KNeighborsClassifier\n",
    "from sklearn.tree import DecisionTreeClassifier\n",
    "from sklearn.ensemble import AdaBoostClassifier, RandomForestClassifier\n",
    "from sklearn.linear_model import LogisticRegression,SGDClassifier\n",
    "from sklearn.naive_bayes import GaussianNB,BernoulliNB\n",
    "import matplotlib.pyplot as plt\n",
    "import seaborn as sns\n",
    "from utils import Processor\n",
    "import os\n",
    "import numpy as np\n",
    "import pandas as pd\n",
    "%matplotlib inline"
   ]
  },
  {
   "cell_type": "code",
   "execution_count": 2,
   "metadata": {
    "collapsed": false
   },
   "outputs": [],
   "source": [
    "# os.chdir('/')\n",
    "trainFid = 'KDDTrain+_20Percent.txt'\n",
    "testFid = 'KDDTest+.txt'\n"
   ]
  },
  {
   "cell_type": "markdown",
   "metadata": {},
   "source": [
    "## 資料前處理"
   ]
  },
  {
   "cell_type": "code",
   "execution_count": 3,
   "metadata": {
    "collapsed": false
   },
   "outputs": [
    {
     "data": {
      "text/html": [
       "<div>\n",
       "<table border=\"1\" class=\"dataframe\">\n",
       "  <thead>\n",
       "    <tr style=\"text-align: right;\">\n",
       "      <th></th>\n",
       "      <th>duration</th>\n",
       "      <th>protocol_type</th>\n",
       "      <th>service</th>\n",
       "      <th>flag</th>\n",
       "      <th>src_bytes</th>\n",
       "      <th>dst_bytes</th>\n",
       "      <th>land</th>\n",
       "      <th>wrong_fragment</th>\n",
       "      <th>urgent</th>\n",
       "      <th>hot</th>\n",
       "      <th>...</th>\n",
       "      <th>dst_host_srv_count</th>\n",
       "      <th>dst_host_same_srv_rate</th>\n",
       "      <th>dst_host_diff_srv_rate</th>\n",
       "      <th>dst_host_same_src_port_rate</th>\n",
       "      <th>dst_host_srv_diff_host_rate</th>\n",
       "      <th>dst_host_serror_rate</th>\n",
       "      <th>dst_host_srv_serror_rate</th>\n",
       "      <th>dst_host_rerror_rate</th>\n",
       "      <th>dst_host_srv_rerror_rate</th>\n",
       "      <th>attack_type</th>\n",
       "    </tr>\n",
       "  </thead>\n",
       "  <tbody>\n",
       "    <tr>\n",
       "      <th>0</th>\n",
       "      <td>0</td>\n",
       "      <td>tcp</td>\n",
       "      <td>ftp_data</td>\n",
       "      <td>SF</td>\n",
       "      <td>491</td>\n",
       "      <td>0</td>\n",
       "      <td>0</td>\n",
       "      <td>0</td>\n",
       "      <td>0</td>\n",
       "      <td>0</td>\n",
       "      <td>...</td>\n",
       "      <td>25</td>\n",
       "      <td>0.17</td>\n",
       "      <td>0.03</td>\n",
       "      <td>0.17</td>\n",
       "      <td>0.00</td>\n",
       "      <td>0.00</td>\n",
       "      <td>0.00</td>\n",
       "      <td>0.05</td>\n",
       "      <td>0.00</td>\n",
       "      <td>0</td>\n",
       "    </tr>\n",
       "    <tr>\n",
       "      <th>1</th>\n",
       "      <td>0</td>\n",
       "      <td>udp</td>\n",
       "      <td>other</td>\n",
       "      <td>SF</td>\n",
       "      <td>146</td>\n",
       "      <td>0</td>\n",
       "      <td>0</td>\n",
       "      <td>0</td>\n",
       "      <td>0</td>\n",
       "      <td>0</td>\n",
       "      <td>...</td>\n",
       "      <td>1</td>\n",
       "      <td>0.00</td>\n",
       "      <td>0.60</td>\n",
       "      <td>0.88</td>\n",
       "      <td>0.00</td>\n",
       "      <td>0.00</td>\n",
       "      <td>0.00</td>\n",
       "      <td>0.00</td>\n",
       "      <td>0.00</td>\n",
       "      <td>0</td>\n",
       "    </tr>\n",
       "    <tr>\n",
       "      <th>2</th>\n",
       "      <td>0</td>\n",
       "      <td>tcp</td>\n",
       "      <td>private</td>\n",
       "      <td>S0</td>\n",
       "      <td>0</td>\n",
       "      <td>0</td>\n",
       "      <td>0</td>\n",
       "      <td>0</td>\n",
       "      <td>0</td>\n",
       "      <td>0</td>\n",
       "      <td>...</td>\n",
       "      <td>26</td>\n",
       "      <td>0.10</td>\n",
       "      <td>0.05</td>\n",
       "      <td>0.00</td>\n",
       "      <td>0.00</td>\n",
       "      <td>1.00</td>\n",
       "      <td>1.00</td>\n",
       "      <td>0.00</td>\n",
       "      <td>0.00</td>\n",
       "      <td>1</td>\n",
       "    </tr>\n",
       "    <tr>\n",
       "      <th>3</th>\n",
       "      <td>0</td>\n",
       "      <td>tcp</td>\n",
       "      <td>http</td>\n",
       "      <td>SF</td>\n",
       "      <td>232</td>\n",
       "      <td>8153</td>\n",
       "      <td>0</td>\n",
       "      <td>0</td>\n",
       "      <td>0</td>\n",
       "      <td>0</td>\n",
       "      <td>...</td>\n",
       "      <td>255</td>\n",
       "      <td>1.00</td>\n",
       "      <td>0.00</td>\n",
       "      <td>0.03</td>\n",
       "      <td>0.04</td>\n",
       "      <td>0.03</td>\n",
       "      <td>0.01</td>\n",
       "      <td>0.00</td>\n",
       "      <td>0.01</td>\n",
       "      <td>0</td>\n",
       "    </tr>\n",
       "    <tr>\n",
       "      <th>4</th>\n",
       "      <td>0</td>\n",
       "      <td>tcp</td>\n",
       "      <td>http</td>\n",
       "      <td>SF</td>\n",
       "      <td>199</td>\n",
       "      <td>420</td>\n",
       "      <td>0</td>\n",
       "      <td>0</td>\n",
       "      <td>0</td>\n",
       "      <td>0</td>\n",
       "      <td>...</td>\n",
       "      <td>255</td>\n",
       "      <td>1.00</td>\n",
       "      <td>0.00</td>\n",
       "      <td>0.00</td>\n",
       "      <td>0.00</td>\n",
       "      <td>0.00</td>\n",
       "      <td>0.00</td>\n",
       "      <td>0.00</td>\n",
       "      <td>0.00</td>\n",
       "      <td>0</td>\n",
       "    </tr>\n",
       "  </tbody>\n",
       "</table>\n",
       "<p>5 rows × 42 columns</p>\n",
       "</div>"
      ],
      "text/plain": [
       "   duration protocol_type   service flag  src_bytes  dst_bytes  land  \\\n",
       "0         0           tcp  ftp_data   SF        491          0     0   \n",
       "1         0           udp     other   SF        146          0     0   \n",
       "2         0           tcp   private   S0          0          0     0   \n",
       "3         0           tcp      http   SF        232       8153     0   \n",
       "4         0           tcp      http   SF        199        420     0   \n",
       "\n",
       "   wrong_fragment  urgent  hot     ...       dst_host_srv_count  \\\n",
       "0               0       0    0     ...                       25   \n",
       "1               0       0    0     ...                        1   \n",
       "2               0       0    0     ...                       26   \n",
       "3               0       0    0     ...                      255   \n",
       "4               0       0    0     ...                      255   \n",
       "\n",
       "   dst_host_same_srv_rate  dst_host_diff_srv_rate  \\\n",
       "0                    0.17                    0.03   \n",
       "1                    0.00                    0.60   \n",
       "2                    0.10                    0.05   \n",
       "3                    1.00                    0.00   \n",
       "4                    1.00                    0.00   \n",
       "\n",
       "   dst_host_same_src_port_rate  dst_host_srv_diff_host_rate  \\\n",
       "0                         0.17                         0.00   \n",
       "1                         0.88                         0.00   \n",
       "2                         0.00                         0.00   \n",
       "3                         0.03                         0.04   \n",
       "4                         0.00                         0.00   \n",
       "\n",
       "   dst_host_serror_rate  dst_host_srv_serror_rate  dst_host_rerror_rate  \\\n",
       "0                  0.00                      0.00                  0.05   \n",
       "1                  0.00                      0.00                  0.00   \n",
       "2                  1.00                      1.00                  0.00   \n",
       "3                  0.03                      0.01                  0.00   \n",
       "4                  0.00                      0.00                  0.00   \n",
       "\n",
       "   dst_host_srv_rerror_rate  attack_type  \n",
       "0                      0.00            0  \n",
       "1                      0.00            0  \n",
       "2                      0.00            1  \n",
       "3                      0.01            0  \n",
       "4                      0.00            0  \n",
       "\n",
       "[5 rows x 42 columns]"
      ]
     },
     "execution_count": 3,
     "metadata": {},
     "output_type": "execute_result"
    }
   ],
   "source": [
    "traindata, attack_type_list = Processor.cleanData(trainFid)\n",
    "traindata = traindata[:5000]\n",
    "testdata, _ = Processor.cleanData(testFid)\n",
    "traindata.head()"
   ]
  },
  {
   "cell_type": "code",
   "execution_count": 4,
   "metadata": {
    "collapsed": false
   },
   "outputs": [
    {
     "data": {
      "text/plain": [
       "['normal', 'dos', 'r2l', 'probe', 'u2r']"
      ]
     },
     "execution_count": 4,
     "metadata": {},
     "output_type": "execute_result"
    }
   ],
   "source": [
    "attack_type_list"
   ]
  },
  {
   "cell_type": "code",
   "execution_count": 5,
   "metadata": {
    "collapsed": false
   },
   "outputs": [
    {
     "name": "stdout",
     "output_type": "stream",
     "text": [
      "<class 'pandas.core.frame.DataFrame'>\n",
      "RangeIndex: 5000 entries, 0 to 4999\n",
      "Data columns (total 42 columns):\n",
      "duration                       5000 non-null int64\n",
      "protocol_type                  5000 non-null object\n",
      "service                        5000 non-null object\n",
      "flag                           5000 non-null object\n",
      "src_bytes                      5000 non-null int64\n",
      "dst_bytes                      5000 non-null int64\n",
      "land                           5000 non-null int64\n",
      "wrong_fragment                 5000 non-null int64\n",
      "urgent                         5000 non-null int64\n",
      "hot                            5000 non-null int64\n",
      "num_failed_logins              5000 non-null int64\n",
      "logged_in                      5000 non-null int64\n",
      "num_compromised                5000 non-null int64\n",
      "root_shell                     5000 non-null int64\n",
      "su_attempted                   5000 non-null int64\n",
      "num_root                       5000 non-null int64\n",
      "num_file_creations             5000 non-null int64\n",
      "num_shells                     5000 non-null int64\n",
      "num_access_files               5000 non-null int64\n",
      "num_outbound_cmds              5000 non-null int64\n",
      "is_host_login                  5000 non-null int64\n",
      "is_guest_login                 5000 non-null int64\n",
      "count                          5000 non-null int64\n",
      "srv_count                      5000 non-null int64\n",
      "serror_rate                    5000 non-null float64\n",
      "srv_serror_rate                5000 non-null float64\n",
      "rerror_rate                    5000 non-null float64\n",
      "srv_rerror_rate                5000 non-null float64\n",
      "same_srv_rate                  5000 non-null float64\n",
      "diff_srv_rate                  5000 non-null float64\n",
      "srv_diff_host_rate             5000 non-null float64\n",
      "dst_host_count                 5000 non-null int64\n",
      "dst_host_srv_count             5000 non-null int64\n",
      "dst_host_same_srv_rate         5000 non-null float64\n",
      "dst_host_diff_srv_rate         5000 non-null float64\n",
      "dst_host_same_src_port_rate    5000 non-null float64\n",
      "dst_host_srv_diff_host_rate    5000 non-null float64\n",
      "dst_host_serror_rate           5000 non-null float64\n",
      "dst_host_srv_serror_rate       5000 non-null float64\n",
      "dst_host_rerror_rate           5000 non-null float64\n",
      "dst_host_srv_rerror_rate       5000 non-null float64\n",
      "attack_type                    5000 non-null int64\n",
      "dtypes: float64(15), int64(24), object(3)\n",
      "memory usage: 1.6+ MB\n"
     ]
    }
   ],
   "source": [
    "traindata.info()"
   ]
  },
  {
   "cell_type": "markdown",
   "metadata": {},
   "source": [
    "#### 1. 檢視攻擊種類分佈"
   ]
  },
  {
   "cell_type": "code",
   "execution_count": 6,
   "metadata": {
    "collapsed": false
   },
   "outputs": [
    {
     "data": {
      "text/plain": [
       "[<matplotlib.text.Text at 0x110d68210>,\n",
       " <matplotlib.text.Text at 0x110d73c50>,\n",
       " <matplotlib.text.Text at 0x110d5c550>,\n",
       " <matplotlib.text.Text at 0x103a9d350>,\n",
       " <matplotlib.text.Text at 0x110e91d10>]"
      ]
     },
     "execution_count": 6,
     "metadata": {},
     "output_type": "execute_result"
    },
    {
     "data": {
      "image/png": "[encoded data removed]",
      "text/plain": [
       "<matplotlib.figure.Figure at 0x103a4ef10>"
      ]
     },
     "metadata": {},
     "output_type": "display_data"
    }
   ],
   "source": [
    "plt.figure(figsize = (12, 6))\n",
    "ax = sns.barplot(x=range(0, len(traindata['attack_type'].value_counts())), y=traindata['attack_type'].value_counts().tolist())\n",
    "plt.legend(traindata['attack_type'].value_counts().index.tolist(),loc=0)\n",
    "attack_t = [attack_type_list[i] for i in traindata['attack_type'].unique()]\n",
    "ax.set_xticklabels(attack_t)"
   ]
  },
  {
   "cell_type": "markdown",
   "metadata": {},
   "source": [
    "#### 2. 資料標準化"
   ]
  },
  {
   "cell_type": "code",
   "execution_count": 7,
   "metadata": {
    "collapsed": false
   },
   "outputs": [],
   "source": [
    "traindata_df = pd.get_dummies(Processor.normalize(traindata.drop(['attack_type'], axis=1)))\n",
    "traindata_df['attack_type'] = traindata['attack_type']\n",
    "anomalydata_df = traindata_df[traindata_df['attack_type']!=0]\n",
    "anomalydata_df.index = range(0, len(anomalydata_df))\n",
    "normaldata_df = traindata_df[traindata_df['attack_type']==0]\n",
    "normaldata_df.index = range(0, len(normaldata_df))"
   ]
  },
  {
   "cell_type": "code",
   "execution_count": 8,
   "metadata": {
    "collapsed": false
   },
   "outputs": [
    {
     "data": {
      "text/html": [
       "<div>\n",
       "<table border=\"1\" class=\"dataframe\">\n",
       "  <thead>\n",
       "    <tr style=\"text-align: right;\">\n",
       "      <th></th>\n",
       "      <th>duration</th>\n",
       "      <th>src_bytes</th>\n",
       "      <th>dst_bytes</th>\n",
       "      <th>land</th>\n",
       "      <th>wrong_fragment</th>\n",
       "      <th>urgent</th>\n",
       "      <th>hot</th>\n",
       "      <th>num_failed_logins</th>\n",
       "      <th>logged_in</th>\n",
       "      <th>num_compromised</th>\n",
       "      <th>...</th>\n",
       "      <th>flag_RSTO</th>\n",
       "      <th>flag_RSTOS0</th>\n",
       "      <th>flag_RSTR</th>\n",
       "      <th>flag_S0</th>\n",
       "      <th>flag_S1</th>\n",
       "      <th>flag_S2</th>\n",
       "      <th>flag_S3</th>\n",
       "      <th>flag_SF</th>\n",
       "      <th>flag_SH</th>\n",
       "      <th>attack_type</th>\n",
       "    </tr>\n",
       "  </thead>\n",
       "  <tbody>\n",
       "    <tr>\n",
       "      <th>0</th>\n",
       "      <td>-0.116826</td>\n",
       "      <td>-0.015835</td>\n",
       "      <td>-0.079693</td>\n",
       "      <td>0</td>\n",
       "      <td>-0.099414</td>\n",
       "      <td>-0.014142</td>\n",
       "      <td>-0.091457</td>\n",
       "      <td>-0.030011</td>\n",
       "      <td>-0.807261</td>\n",
       "      <td>-0.023582</td>\n",
       "      <td>...</td>\n",
       "      <td>0.0</td>\n",
       "      <td>0.0</td>\n",
       "      <td>0.0</td>\n",
       "      <td>0.0</td>\n",
       "      <td>0.0</td>\n",
       "      <td>0.0</td>\n",
       "      <td>0.0</td>\n",
       "      <td>1.0</td>\n",
       "      <td>0.0</td>\n",
       "      <td>0</td>\n",
       "    </tr>\n",
       "    <tr>\n",
       "      <th>1</th>\n",
       "      <td>-0.116826</td>\n",
       "      <td>-0.015899</td>\n",
       "      <td>-0.079693</td>\n",
       "      <td>0</td>\n",
       "      <td>-0.099414</td>\n",
       "      <td>-0.014142</td>\n",
       "      <td>-0.091457</td>\n",
       "      <td>-0.030011</td>\n",
       "      <td>-0.807261</td>\n",
       "      <td>-0.023582</td>\n",
       "      <td>...</td>\n",
       "      <td>0.0</td>\n",
       "      <td>0.0</td>\n",
       "      <td>0.0</td>\n",
       "      <td>0.0</td>\n",
       "      <td>0.0</td>\n",
       "      <td>0.0</td>\n",
       "      <td>0.0</td>\n",
       "      <td>1.0</td>\n",
       "      <td>0.0</td>\n",
       "      <td>0</td>\n",
       "    </tr>\n",
       "    <tr>\n",
       "      <th>3</th>\n",
       "      <td>-0.116826</td>\n",
       "      <td>-0.015883</td>\n",
       "      <td>0.250351</td>\n",
       "      <td>0</td>\n",
       "      <td>-0.099414</td>\n",
       "      <td>-0.014142</td>\n",
       "      <td>-0.091457</td>\n",
       "      <td>-0.030011</td>\n",
       "      <td>1.238509</td>\n",
       "      <td>-0.023582</td>\n",
       "      <td>...</td>\n",
       "      <td>0.0</td>\n",
       "      <td>0.0</td>\n",
       "      <td>0.0</td>\n",
       "      <td>0.0</td>\n",
       "      <td>0.0</td>\n",
       "      <td>0.0</td>\n",
       "      <td>0.0</td>\n",
       "      <td>1.0</td>\n",
       "      <td>0.0</td>\n",
       "      <td>0</td>\n",
       "    </tr>\n",
       "    <tr>\n",
       "      <th>4</th>\n",
       "      <td>-0.116826</td>\n",
       "      <td>-0.015889</td>\n",
       "      <td>-0.062691</td>\n",
       "      <td>0</td>\n",
       "      <td>-0.099414</td>\n",
       "      <td>-0.014142</td>\n",
       "      <td>-0.091457</td>\n",
       "      <td>-0.030011</td>\n",
       "      <td>1.238509</td>\n",
       "      <td>-0.023582</td>\n",
       "      <td>...</td>\n",
       "      <td>0.0</td>\n",
       "      <td>0.0</td>\n",
       "      <td>0.0</td>\n",
       "      <td>0.0</td>\n",
       "      <td>0.0</td>\n",
       "      <td>0.0</td>\n",
       "      <td>0.0</td>\n",
       "      <td>1.0</td>\n",
       "      <td>0.0</td>\n",
       "      <td>0</td>\n",
       "    </tr>\n",
       "    <tr>\n",
       "      <th>12</th>\n",
       "      <td>-0.116826</td>\n",
       "      <td>-0.015873</td>\n",
       "      <td>0.011431</td>\n",
       "      <td>0</td>\n",
       "      <td>-0.099414</td>\n",
       "      <td>-0.014142</td>\n",
       "      <td>-0.091457</td>\n",
       "      <td>-0.030011</td>\n",
       "      <td>1.238509</td>\n",
       "      <td>-0.023582</td>\n",
       "      <td>...</td>\n",
       "      <td>0.0</td>\n",
       "      <td>0.0</td>\n",
       "      <td>0.0</td>\n",
       "      <td>0.0</td>\n",
       "      <td>0.0</td>\n",
       "      <td>0.0</td>\n",
       "      <td>0.0</td>\n",
       "      <td>1.0</td>\n",
       "      <td>0.0</td>\n",
       "      <td>0</td>\n",
       "    </tr>\n",
       "  </tbody>\n",
       "</table>\n",
       "<p>5 rows × 117 columns</p>\n",
       "</div>"
      ],
      "text/plain": [
       "    duration  src_bytes  dst_bytes  land  wrong_fragment    urgent       hot  \\\n",
       "0  -0.116826  -0.015835  -0.079693     0       -0.099414 -0.014142 -0.091457   \n",
       "1  -0.116826  -0.015899  -0.079693     0       -0.099414 -0.014142 -0.091457   \n",
       "3  -0.116826  -0.015883   0.250351     0       -0.099414 -0.014142 -0.091457   \n",
       "4  -0.116826  -0.015889  -0.062691     0       -0.099414 -0.014142 -0.091457   \n",
       "12 -0.116826  -0.015873   0.011431     0       -0.099414 -0.014142 -0.091457   \n",
       "\n",
       "    num_failed_logins  logged_in  num_compromised     ...       flag_RSTO  \\\n",
       "0           -0.030011  -0.807261        -0.023582     ...             0.0   \n",
       "1           -0.030011  -0.807261        -0.023582     ...             0.0   \n",
       "3           -0.030011   1.238509        -0.023582     ...             0.0   \n",
       "4           -0.030011   1.238509        -0.023582     ...             0.0   \n",
       "12          -0.030011   1.238509        -0.023582     ...             0.0   \n",
       "\n",
       "    flag_RSTOS0  flag_RSTR  flag_S0  flag_S1  flag_S2  flag_S3  flag_SF  \\\n",
       "0           0.0        0.0      0.0      0.0      0.0      0.0      1.0   \n",
       "1           0.0        0.0      0.0      0.0      0.0      0.0      1.0   \n",
       "3           0.0        0.0      0.0      0.0      0.0      0.0      1.0   \n",
       "4           0.0        0.0      0.0      0.0      0.0      0.0      1.0   \n",
       "12          0.0        0.0      0.0      0.0      0.0      0.0      1.0   \n",
       "\n",
       "    flag_SH  attack_type  \n",
       "0       0.0            0  \n",
       "1       0.0            0  \n",
       "3       0.0            0  \n",
       "4       0.0            0  \n",
       "12      0.0            0  \n",
       "\n",
       "[5 rows x 117 columns]"
      ]
     },
     "execution_count": 8,
     "metadata": {},
     "output_type": "execute_result"
    }
   ],
   "source": [
    "normaldata_df.head()"
   ]
  },
  {
   "cell_type": "code",
   "execution_count": 9,
   "metadata": {
    "collapsed": false
   },
   "outputs": [
    {
     "data": {
      "text/html": [
       "<div>\n",
       "<table border=\"1\" class=\"dataframe\">\n",
       "  <thead>\n",
       "    <tr style=\"text-align: right;\">\n",
       "      <th></th>\n",
       "      <th>duration</th>\n",
       "      <th>src_bytes</th>\n",
       "      <th>dst_bytes</th>\n",
       "      <th>land</th>\n",
       "      <th>wrong_fragment</th>\n",
       "      <th>urgent</th>\n",
       "      <th>hot</th>\n",
       "      <th>num_failed_logins</th>\n",
       "      <th>logged_in</th>\n",
       "      <th>num_compromised</th>\n",
       "      <th>...</th>\n",
       "      <th>flag_RSTO</th>\n",
       "      <th>flag_RSTOS0</th>\n",
       "      <th>flag_RSTR</th>\n",
       "      <th>flag_S0</th>\n",
       "      <th>flag_S1</th>\n",
       "      <th>flag_S2</th>\n",
       "      <th>flag_S3</th>\n",
       "      <th>flag_SF</th>\n",
       "      <th>flag_SH</th>\n",
       "      <th>attack_type</th>\n",
       "    </tr>\n",
       "  </thead>\n",
       "  <tbody>\n",
       "    <tr>\n",
       "      <th>2</th>\n",
       "      <td>-0.116826</td>\n",
       "      <td>-0.015926</td>\n",
       "      <td>-0.079693</td>\n",
       "      <td>0</td>\n",
       "      <td>-0.099414</td>\n",
       "      <td>-0.014142</td>\n",
       "      <td>-0.091457</td>\n",
       "      <td>-0.030011</td>\n",
       "      <td>-0.807261</td>\n",
       "      <td>-0.023582</td>\n",
       "      <td>...</td>\n",
       "      <td>0.0</td>\n",
       "      <td>0.0</td>\n",
       "      <td>0.0</td>\n",
       "      <td>1.0</td>\n",
       "      <td>0.0</td>\n",
       "      <td>0.0</td>\n",
       "      <td>0.0</td>\n",
       "      <td>0.0</td>\n",
       "      <td>0.0</td>\n",
       "      <td>1</td>\n",
       "    </tr>\n",
       "    <tr>\n",
       "      <th>5</th>\n",
       "      <td>-0.116826</td>\n",
       "      <td>-0.015926</td>\n",
       "      <td>-0.079693</td>\n",
       "      <td>0</td>\n",
       "      <td>-0.099414</td>\n",
       "      <td>-0.014142</td>\n",
       "      <td>-0.091457</td>\n",
       "      <td>-0.030011</td>\n",
       "      <td>-0.807261</td>\n",
       "      <td>-0.023582</td>\n",
       "      <td>...</td>\n",
       "      <td>0.0</td>\n",
       "      <td>0.0</td>\n",
       "      <td>0.0</td>\n",
       "      <td>0.0</td>\n",
       "      <td>0.0</td>\n",
       "      <td>0.0</td>\n",
       "      <td>0.0</td>\n",
       "      <td>0.0</td>\n",
       "      <td>0.0</td>\n",
       "      <td>1</td>\n",
       "    </tr>\n",
       "    <tr>\n",
       "      <th>6</th>\n",
       "      <td>-0.116826</td>\n",
       "      <td>-0.015926</td>\n",
       "      <td>-0.079693</td>\n",
       "      <td>0</td>\n",
       "      <td>-0.099414</td>\n",
       "      <td>-0.014142</td>\n",
       "      <td>-0.091457</td>\n",
       "      <td>-0.030011</td>\n",
       "      <td>-0.807261</td>\n",
       "      <td>-0.023582</td>\n",
       "      <td>...</td>\n",
       "      <td>0.0</td>\n",
       "      <td>0.0</td>\n",
       "      <td>0.0</td>\n",
       "      <td>1.0</td>\n",
       "      <td>0.0</td>\n",
       "      <td>0.0</td>\n",
       "      <td>0.0</td>\n",
       "      <td>0.0</td>\n",
       "      <td>0.0</td>\n",
       "      <td>1</td>\n",
       "    </tr>\n",
       "    <tr>\n",
       "      <th>7</th>\n",
       "      <td>-0.116826</td>\n",
       "      <td>-0.015926</td>\n",
       "      <td>-0.079693</td>\n",
       "      <td>0</td>\n",
       "      <td>-0.099414</td>\n",
       "      <td>-0.014142</td>\n",
       "      <td>-0.091457</td>\n",
       "      <td>-0.030011</td>\n",
       "      <td>-0.807261</td>\n",
       "      <td>-0.023582</td>\n",
       "      <td>...</td>\n",
       "      <td>0.0</td>\n",
       "      <td>0.0</td>\n",
       "      <td>0.0</td>\n",
       "      <td>1.0</td>\n",
       "      <td>0.0</td>\n",
       "      <td>0.0</td>\n",
       "      <td>0.0</td>\n",
       "      <td>0.0</td>\n",
       "      <td>0.0</td>\n",
       "      <td>1</td>\n",
       "    </tr>\n",
       "    <tr>\n",
       "      <th>8</th>\n",
       "      <td>-0.116826</td>\n",
       "      <td>-0.015926</td>\n",
       "      <td>-0.079693</td>\n",
       "      <td>0</td>\n",
       "      <td>-0.099414</td>\n",
       "      <td>-0.014142</td>\n",
       "      <td>-0.091457</td>\n",
       "      <td>-0.030011</td>\n",
       "      <td>-0.807261</td>\n",
       "      <td>-0.023582</td>\n",
       "      <td>...</td>\n",
       "      <td>0.0</td>\n",
       "      <td>0.0</td>\n",
       "      <td>0.0</td>\n",
       "      <td>1.0</td>\n",
       "      <td>0.0</td>\n",
       "      <td>0.0</td>\n",
       "      <td>0.0</td>\n",
       "      <td>0.0</td>\n",
       "      <td>0.0</td>\n",
       "      <td>1</td>\n",
       "    </tr>\n",
       "  </tbody>\n",
       "</table>\n",
       "<p>5 rows × 117 columns</p>\n",
       "</div>"
      ],
      "text/plain": [
       "   duration  src_bytes  dst_bytes  land  wrong_fragment    urgent       hot  \\\n",
       "2 -0.116826  -0.015926  -0.079693     0       -0.099414 -0.014142 -0.091457   \n",
       "5 -0.116826  -0.015926  -0.079693     0       -0.099414 -0.014142 -0.091457   \n",
       "6 -0.116826  -0.015926  -0.079693     0       -0.099414 -0.014142 -0.091457   \n",
       "7 -0.116826  -0.015926  -0.079693     0       -0.099414 -0.014142 -0.091457   \n",
       "8 -0.116826  -0.015926  -0.079693     0       -0.099414 -0.014142 -0.091457   \n",
       "\n",
       "   num_failed_logins  logged_in  num_compromised     ...       flag_RSTO  \\\n",
       "2          -0.030011  -0.807261        -0.023582     ...             0.0   \n",
       "5          -0.030011  -0.807261        -0.023582     ...             0.0   \n",
       "6          -0.030011  -0.807261        -0.023582     ...             0.0   \n",
       "7          -0.030011  -0.807261        -0.023582     ...             0.0   \n",
       "8          -0.030011  -0.807261        -0.023582     ...             0.0   \n",
       "\n",
       "   flag_RSTOS0  flag_RSTR  flag_S0  flag_S1  flag_S2  flag_S3  flag_SF  \\\n",
       "2          0.0        0.0      1.0      0.0      0.0      0.0      0.0   \n",
       "5          0.0        0.0      0.0      0.0      0.0      0.0      0.0   \n",
       "6          0.0        0.0      1.0      0.0      0.0      0.0      0.0   \n",
       "7          0.0        0.0      1.0      0.0      0.0      0.0      0.0   \n",
       "8          0.0        0.0      1.0      0.0      0.0      0.0      0.0   \n",
       "\n",
       "   flag_SH  attack_type  \n",
       "2      0.0            1  \n",
       "5      0.0            1  \n",
       "6      0.0            1  \n",
       "7      0.0            1  \n",
       "8      0.0            1  \n",
       "\n",
       "[5 rows x 117 columns]"
      ]
     },
     "execution_count": 9,
     "metadata": {},
     "output_type": "execute_result"
    }
   ],
   "source": [
    "anomalydata_df.head()"
   ]
  },
  {
   "cell_type": "markdown",
   "metadata": {},
   "source": [
    "#### 3. 資料分群"
   ]
  },
  {
   "cell_type": "code",
   "execution_count": 10,
   "metadata": {
    "collapsed": false
   },
   "outputs": [],
   "source": [
    "from sklearn.cluster import KMeans\n",
    "from sklearn.neighbors import NearestNeighbors\n",
    "K = 3\n",
    "kmeans = KMeans(n_clusters=K, random_state=0).fit(anomalydata_df.iloc[:,:anomalydata_df.shape[1]-1])\n",
    "clustors = kmeans.predict(anomalydata_df.iloc[:,:anomalydata_df.shape[1]-1])"
   ]
  },
  {
   "cell_type": "code",
   "execution_count": 11,
   "metadata": {
    "collapsed": false,
    "scrolled": true
   },
   "outputs": [
    {
     "data": {
      "text/plain": [
       "[<matplotlib.text.Text at 0x1119d4350>,\n",
       " <matplotlib.text.Text at 0x110fd1a50>,\n",
       " <matplotlib.text.Text at 0x1114a6550>]"
      ]
     },
     "execution_count": 11,
     "metadata": {},
     "output_type": "execute_result"
    },
    {
     "data": {
      "image/png": "[encoded data removed]",
      "text/plain": [
       "<matplotlib.figure.Figure at 0x103a4e6d0>"
      ]
     },
     "metadata": {},
     "output_type": "display_data"
    }
   ],
   "source": [
    "plt.figure(figsize = (12, 6))\n",
    "ax = sns.barplot(x=range(0, len(pd.Series(clustors).value_counts())), y=pd.Series(clustors).value_counts().tolist())\n",
    "plt.legend(pd.Series(clustors).value_counts().index.tolist(),loc=0)\n",
    "ax.set_xticklabels(pd.Series(clustors).value_counts().index.tolist())"
   ]
  },
  {
   "cell_type": "code",
   "execution_count": 12,
   "metadata": {
    "collapsed": false
   },
   "outputs": [],
   "source": [
    "anomalydata_df.insert(0, 'clusters', pd.Series(clustors, dtype=np.int64))"
   ]
  },
  {
   "cell_type": "code",
   "execution_count": 13,
   "metadata": {
    "collapsed": false
   },
   "outputs": [],
   "source": [
    "cluster_df = []\n",
    "for cluster in sorted(anomalydata_df['clusters'].unique()):\n",
    "    node = anomalydata_df[anomalydata_df['clusters']==cluster]\n",
    "    node = node.drop(['clusters'], axis=1)\n",
    "    cluster_df.append(node)"
   ]
  },
  {
   "cell_type": "code",
   "execution_count": 23,
   "metadata": {
    "collapsed": false
   },
   "outputs": [
    {
     "data": {
      "text/plain": [
       "2       False\n",
       "5       False\n",
       "6       False\n",
       "7       False\n",
       "8       False\n",
       "9       False\n",
       "10      False\n",
       "11      False\n",
       "13      False\n",
       "14      False\n",
       "15      False\n",
       "17      False\n",
       "20      False\n",
       "21      False\n",
       "24      False\n",
       "26      False\n",
       "30      False\n",
       "31      False\n",
       "33      False\n",
       "37      False\n",
       "39      False\n",
       "40      False\n",
       "41      False\n",
       "45      False\n",
       "46      False\n",
       "48      False\n",
       "49      False\n",
       "51      False\n",
       "52      False\n",
       "56      False\n",
       "        ...  \n",
       "4928     True\n",
       "4937     True\n",
       "4938     True\n",
       "4939     True\n",
       "4940     True\n",
       "4942     True\n",
       "4943     True\n",
       "4944     True\n",
       "4945     True\n",
       "4948     True\n",
       "4954     True\n",
       "4955     True\n",
       "4957     True\n",
       "4958     True\n",
       "4964     True\n",
       "4965     True\n",
       "4968     True\n",
       "4969     True\n",
       "4970     True\n",
       "4976     True\n",
       "4977     True\n",
       "4978     True\n",
       "4979     True\n",
       "4984     True\n",
       "4988     True\n",
       "4989     True\n",
       "4990     True\n",
       "4992     True\n",
       "4996     True\n",
       "4998     True\n",
       "Name: clusters, dtype: bool"
      ]
     },
     "execution_count": 23,
     "metadata": {},
     "output_type": "execute_result"
    }
   ],
   "source": [
    "anomalydata_df[\"clusters\"].apply(np.isnan)"
   ]
  },
  {
   "cell_type": "code",
   "execution_count": null,
   "metadata": {
    "collapsed": false
   },
   "outputs": [],
   "source": [
    "fig, ax = plt.subplots(len(cluster_df), 1, figsize = (12, 20))\n",
    "for index, cluster in enumerate(cluster_df):\n",
    "    sns.barplot(x=range(0, len(cluster['attack_type'].value_counts().sort_index()))\\\n",
    "                     , y=(cluster['attack_type'].value_counts().sort_index()).tolist()\\\n",
    "                     , ax = ax[index])\n",
    "    attack_t = [attack_type_list[i] for i in cluster['attack_type'].value_counts().sort_index().index]\n",
    "    ax[index].set_xticklabels(attack_t)\n",
    "    ax[index].set_xlabel(\"Clustor%d\" % index)"
   ]
  },
  {
   "cell_type": "code",
   "execution_count": null,
   "metadata": {
    "collapsed": false
   },
   "outputs": [],
   "source": [
    "traindata_len = len(traindata)\n",
    "data = pd.concat([traindata, testdata])\n",
    "trainX, trainY = Processor.process(data, 0, traindata_len)\n",
    "testX, testY = Processor.process(data,traindata_len, len(data))"
   ]
  },
  {
   "cell_type": "code",
   "execution_count": null,
   "metadata": {
    "collapsed": false
   },
   "outputs": [],
   "source": [
    "# layer 1: normal v.s. abnormal\n",
    "trainX1 = trainX.copy()\n",
    "trainY1 = trainY.copy()\n",
    "testX1 = testX.copy()\n",
    "testY1 = testY.copy()"
   ]
  },
  {
   "cell_type": "code",
   "execution_count": null,
   "metadata": {
    "collapsed": false
   },
   "outputs": [],
   "source": [
    "trainX1.shape"
   ]
  },
  {
   "cell_type": "code",
   "execution_count": null,
   "metadata": {
    "collapsed": false
   },
   "outputs": [],
   "source": [
    "########################### 1st layer ############################\n",
    "print \"First layer:\"\n",
    "lrParas = {'penalty':['l1','l2'],'C':np.linspace(0.001,1.5,5)}\n",
    "svmParas = {'kernel':'rbf','C':np.linspace(0.001,1.5,5),'gamma':np.linspace(0.001,1.5,5)}\n",
    "ks = {'n_neighbors':[3,5]}\n",
    "clfs1 = dict(\n",
    "            dt = DecisionTreeClassifier(),\\\n",
    "\t\t\trf = RandomForestClassifier(),\\\n",
    "\t\t\tbnb = BernoulliNB(),\\\n",
    "\t\t\tlr = GridSearchCV(LogisticRegression(), lrParas),\\\n",
    "\t\t\tadb = AdaBoostClassifier(),\\\n",
    "\t\t\tknn = GridSearchCV(KNeighborsClassifier(),ks),\\\n",
    "\t\t\t#grid = GridSearchCV(svm.SVC(), svmParas)\n",
    "\t\t\t)\n",
    "result = Processor.compareClfs(clfs1, trainX1, trainY1, testX1, testY1)\n",
    "print result"
   ]
  },
  {
   "cell_type": "code",
   "execution_count": null,
   "metadata": {
    "collapsed": false
   },
   "outputs": [],
   "source": [
    "# ########################### 2nd layer ############################\n",
    "ks = {'n_neighbors':[3,5,7,9]}\n",
    "lrParas = {'penalty':['l1','l2'],'C':np.linspace(0.001,1.5,5)}\n",
    "clfs2 = [RandomForestClassifier(),\\\n",
    "\t\ttree.DecisionTreeClassifier(),\\\n",
    "\t\tBernoulliNB(),\\\n",
    "\t\tAdaBoostClassifier(),\\\n",
    "\t\tGridSearchCV(KNeighborsClassifier(),ks),\\\n",
    "\t\tGridSearchCV(LogisticRegression(), lrParas)\n",
    "\t\t]\n",
    "ec = EnsembleClassifier(clfs2)\n",
    "ec.fit(trainX2, trainY2)\n",
    "result = ec.predict(testX)\n",
    "print 'err2:',1-np.mean(result==testY2)\n",
    "# err2"
   ]
  },
  {
   "cell_type": "code",
   "execution_count": null,
   "metadata": {
    "collapsed": false
   },
   "outputs": [],
   "source": [
    "print testY2"
   ]
  },
  {
   "cell_type": "code",
   "execution_count": null,
   "metadata": {
    "collapsed": false
   },
   "outputs": [],
   "source": [
    "predY = np.zeros(len(trainY))\n",
    "predNId = [i for i in range(len(predY)) if predY[i] == 1]\n",
    "predAbnId = [i for i in range(len(predY)) if predY[i] == 0]\n",
    "predY[predNId] = predY\n",
    "predY[predAbnId] = result\n",
    "print 'err:',1-np.mean(testY==predY)"
   ]
  }
 ],
 "metadata": {
  "kernelspec": {
   "display_name": "Python 2",
   "language": "python",
   "name": "python2"
  },
  "language_info": {
   "codemirror_mode": {
    "name": "ipython",
    "version": 2
   },
   "file_extension": ".py",
   "mimetype": "text/x-python",
   "name": "python",
   "nbconvert_exporter": "python",
   "pygments_lexer": "ipython2",
   "version": "2.7.12"
  }
 },
 "nbformat": 4,
 "nbformat_minor": 0
}

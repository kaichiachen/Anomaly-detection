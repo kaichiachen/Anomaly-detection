{
 "cells": [
  {
   "cell_type": "code",
   "execution_count": 1,
   "metadata": {
    "collapsed": false
   },
   "outputs": [],
   "source": [
    "from sklearn.tree import DecisionTreeClassifier\n",
    "from sklearn.linear_model import LogisticRegression\n",
    "from sklearn.naive_bayes import GaussianNB\n",
    "from sklearn.cluster import KMeans\n",
    "from sklearn.neighbors import NearestNeighbors\n",
    "from sklearn import metrics\n",
    "from utils import Processor, EnsembleClassifier\n",
    "from sklearn.ensemble import AdaBoostClassifier, RandomForestClassifier, BaggingClassifier\n",
    "import matplotlib.pyplot as plt\n",
    "import seaborn as sns\n",
    "import os\n",
    "import itertools\n",
    "import numpy as np\n",
    "import pandas as pd\n",
    "import telepot\n",
    "%matplotlib inline"
   ]
  },
  {
   "cell_type": "code",
   "execution_count": 2,
   "metadata": {
    "collapsed": false
   },
   "outputs": [],
   "source": [
    "# os.chdir('/')\n",
    "trainFid = 'KDDTrain+.txt'\n",
    "testFid = 'KDDTest-21.txt'\n",
    "bot = telepot.Bot('258510570:AAHujlmQqiZ_L4yrWMR9HtuE-0rK8xXo-XY')"
   ]
  },
  {
   "cell_type": "markdown",
   "metadata": {},
   "source": [
    "## 資料前處理"
   ]
  },
  {
   "cell_type": "code",
   "execution_count": 3,
   "metadata": {
    "collapsed": false
   },
   "outputs": [
    {
     "data": {
      "text/html": [
       "<div>\n",
       "<table border=\"1\" class=\"dataframe\">\n",
       "  <thead>\n",
       "    <tr style=\"text-align: right;\">\n",
       "      <th></th>\n",
       "      <th>duration</th>\n",
       "      <th>protocol_type</th>\n",
       "      <th>service</th>\n",
       "      <th>flag</th>\n",
       "      <th>src_bytes</th>\n",
       "      <th>dst_bytes</th>\n",
       "      <th>land</th>\n",
       "      <th>wrong_fragment</th>\n",
       "      <th>urgent</th>\n",
       "      <th>hot</th>\n",
       "      <th>...</th>\n",
       "      <th>dst_host_srv_count</th>\n",
       "      <th>dst_host_same_srv_rate</th>\n",
       "      <th>dst_host_diff_srv_rate</th>\n",
       "      <th>dst_host_same_src_port_rate</th>\n",
       "      <th>dst_host_srv_diff_host_rate</th>\n",
       "      <th>dst_host_serror_rate</th>\n",
       "      <th>dst_host_srv_serror_rate</th>\n",
       "      <th>dst_host_rerror_rate</th>\n",
       "      <th>dst_host_srv_rerror_rate</th>\n",
       "      <th>attack_type</th>\n",
       "    </tr>\n",
       "  </thead>\n",
       "  <tbody>\n",
       "    <tr>\n",
       "      <th>115486</th>\n",
       "      <td>0</td>\n",
       "      <td>tcp</td>\n",
       "      <td>http</td>\n",
       "      <td>SF</td>\n",
       "      <td>239</td>\n",
       "      <td>7922</td>\n",
       "      <td>0</td>\n",
       "      <td>0</td>\n",
       "      <td>0</td>\n",
       "      <td>0</td>\n",
       "      <td>...</td>\n",
       "      <td>1</td>\n",
       "      <td>1.00</td>\n",
       "      <td>0.00</td>\n",
       "      <td>1.00</td>\n",
       "      <td>0.00</td>\n",
       "      <td>0.0</td>\n",
       "      <td>0.0</td>\n",
       "      <td>0.0</td>\n",
       "      <td>0.0</td>\n",
       "      <td>0</td>\n",
       "    </tr>\n",
       "    <tr>\n",
       "      <th>7164</th>\n",
       "      <td>0</td>\n",
       "      <td>tcp</td>\n",
       "      <td>link</td>\n",
       "      <td>REJ</td>\n",
       "      <td>0</td>\n",
       "      <td>0</td>\n",
       "      <td>0</td>\n",
       "      <td>0</td>\n",
       "      <td>0</td>\n",
       "      <td>0</td>\n",
       "      <td>...</td>\n",
       "      <td>5</td>\n",
       "      <td>0.02</td>\n",
       "      <td>0.09</td>\n",
       "      <td>0.00</td>\n",
       "      <td>0.00</td>\n",
       "      <td>0.0</td>\n",
       "      <td>0.0</td>\n",
       "      <td>1.0</td>\n",
       "      <td>1.0</td>\n",
       "      <td>1</td>\n",
       "    </tr>\n",
       "    <tr>\n",
       "      <th>53730</th>\n",
       "      <td>0</td>\n",
       "      <td>tcp</td>\n",
       "      <td>http</td>\n",
       "      <td>SF</td>\n",
       "      <td>289</td>\n",
       "      <td>458</td>\n",
       "      <td>0</td>\n",
       "      <td>0</td>\n",
       "      <td>0</td>\n",
       "      <td>0</td>\n",
       "      <td>...</td>\n",
       "      <td>255</td>\n",
       "      <td>1.00</td>\n",
       "      <td>0.00</td>\n",
       "      <td>0.17</td>\n",
       "      <td>0.04</td>\n",
       "      <td>0.0</td>\n",
       "      <td>0.0</td>\n",
       "      <td>0.0</td>\n",
       "      <td>0.0</td>\n",
       "      <td>0</td>\n",
       "    </tr>\n",
       "    <tr>\n",
       "      <th>90944</th>\n",
       "      <td>0</td>\n",
       "      <td>tcp</td>\n",
       "      <td>http</td>\n",
       "      <td>SF</td>\n",
       "      <td>324</td>\n",
       "      <td>1053</td>\n",
       "      <td>0</td>\n",
       "      <td>0</td>\n",
       "      <td>0</td>\n",
       "      <td>0</td>\n",
       "      <td>...</td>\n",
       "      <td>215</td>\n",
       "      <td>1.00</td>\n",
       "      <td>0.00</td>\n",
       "      <td>0.01</td>\n",
       "      <td>0.01</td>\n",
       "      <td>0.0</td>\n",
       "      <td>0.0</td>\n",
       "      <td>0.0</td>\n",
       "      <td>0.0</td>\n",
       "      <td>0</td>\n",
       "    </tr>\n",
       "    <tr>\n",
       "      <th>55674</th>\n",
       "      <td>0</td>\n",
       "      <td>tcp</td>\n",
       "      <td>iso_tsap</td>\n",
       "      <td>REJ</td>\n",
       "      <td>0</td>\n",
       "      <td>0</td>\n",
       "      <td>0</td>\n",
       "      <td>0</td>\n",
       "      <td>0</td>\n",
       "      <td>0</td>\n",
       "      <td>...</td>\n",
       "      <td>1</td>\n",
       "      <td>0.00</td>\n",
       "      <td>0.09</td>\n",
       "      <td>0.00</td>\n",
       "      <td>0.00</td>\n",
       "      <td>0.0</td>\n",
       "      <td>0.0</td>\n",
       "      <td>1.0</td>\n",
       "      <td>1.0</td>\n",
       "      <td>1</td>\n",
       "    </tr>\n",
       "  </tbody>\n",
       "</table>\n",
       "<p>5 rows × 42 columns</p>\n",
       "</div>"
      ],
      "text/plain": [
       "        duration protocol_type   service flag  src_bytes  dst_bytes  land  \\\n",
       "115486         0           tcp      http   SF        239       7922     0   \n",
       "7164           0           tcp      link  REJ          0          0     0   \n",
       "53730          0           tcp      http   SF        289        458     0   \n",
       "90944          0           tcp      http   SF        324       1053     0   \n",
       "55674          0           tcp  iso_tsap  REJ          0          0     0   \n",
       "\n",
       "        wrong_fragment  urgent  hot     ...       dst_host_srv_count  \\\n",
       "115486               0       0    0     ...                        1   \n",
       "7164                 0       0    0     ...                        5   \n",
       "53730                0       0    0     ...                      255   \n",
       "90944                0       0    0     ...                      215   \n",
       "55674                0       0    0     ...                        1   \n",
       "\n",
       "        dst_host_same_srv_rate  dst_host_diff_srv_rate  \\\n",
       "115486                    1.00                    0.00   \n",
       "7164                      0.02                    0.09   \n",
       "53730                     1.00                    0.00   \n",
       "90944                     1.00                    0.00   \n",
       "55674                     0.00                    0.09   \n",
       "\n",
       "        dst_host_same_src_port_rate  dst_host_srv_diff_host_rate  \\\n",
       "115486                         1.00                         0.00   \n",
       "7164                           0.00                         0.00   \n",
       "53730                          0.17                         0.04   \n",
       "90944                          0.01                         0.01   \n",
       "55674                          0.00                         0.00   \n",
       "\n",
       "        dst_host_serror_rate  dst_host_srv_serror_rate  dst_host_rerror_rate  \\\n",
       "115486                   0.0                       0.0                   0.0   \n",
       "7164                     0.0                       0.0                   1.0   \n",
       "53730                    0.0                       0.0                   0.0   \n",
       "90944                    0.0                       0.0                   0.0   \n",
       "55674                    0.0                       0.0                   1.0   \n",
       "\n",
       "        dst_host_srv_rerror_rate  attack_type  \n",
       "115486                       0.0            0  \n",
       "7164                         1.0            1  \n",
       "53730                        0.0            0  \n",
       "90944                        0.0            0  \n",
       "55674                        1.0            1  \n",
       "\n",
       "[5 rows x 42 columns]"
      ]
     },
     "execution_count": 3,
     "metadata": {},
     "output_type": "execute_result"
    }
   ],
   "source": [
    "traindata, attack_type_list = Processor.cleanData(trainFid)\n",
    "traindata = traindata.iloc[np.random.permutation(len(traindata))][:1000]\n",
    "test_data_len = 200\n",
    "traindata_len = len(traindata) - test_data_len\n",
    "testdata = traindata[traindata_len:]\n",
    "traindata = traindata[:traindata_len]\n",
    "# testdata, _ = Processor.cleanData(testFid)\n",
    "traindata.head()"
   ]
  },
  {
   "cell_type": "markdown",
   "metadata": {},
   "source": [
    "##### 列出一些基本資料"
   ]
  },
  {
   "cell_type": "code",
   "execution_count": 4,
   "metadata": {
    "collapsed": false
   },
   "outputs": [
    {
     "name": "stdout",
     "output_type": "stream",
     "text": [
      "攻擊型態：['normal', 'dos', 'r2l', 'probe', 'u2r']\n",
      "有800筆訓練資料\n",
      "有200筆測試資料\n"
     ]
    }
   ],
   "source": [
    "print \"攻擊型態：%s\" % attack_type_list\n",
    "print \"有%d筆訓練資料\" % len(traindata)\n",
    "print \"有%d筆測試資料\" % len(testdata)"
   ]
  },
  {
   "cell_type": "markdown",
   "metadata": {},
   "source": [
    "##### 資料的特徵及屬性"
   ]
  },
  {
   "cell_type": "code",
   "execution_count": 5,
   "metadata": {
    "collapsed": false
   },
   "outputs": [
    {
     "name": "stdout",
     "output_type": "stream",
     "text": [
      "<class 'pandas.core.frame.DataFrame'>\n",
      "Int64Index: 800 entries, 115486 to 109401\n",
      "Data columns (total 42 columns):\n",
      "duration                       800 non-null int64\n",
      "protocol_type                  800 non-null object\n",
      "service                        800 non-null object\n",
      "flag                           800 non-null object\n",
      "src_bytes                      800 non-null int64\n",
      "dst_bytes                      800 non-null int64\n",
      "land                           800 non-null int64\n",
      "wrong_fragment                 800 non-null int64\n",
      "urgent                         800 non-null int64\n",
      "hot                            800 non-null int64\n",
      "num_failed_logins              800 non-null int64\n",
      "logged_in                      800 non-null int64\n",
      "num_compromised                800 non-null int64\n",
      "root_shell                     800 non-null int64\n",
      "su_attempted                   800 non-null int64\n",
      "num_root                       800 non-null int64\n",
      "num_file_creations             800 non-null int64\n",
      "num_shells                     800 non-null int64\n",
      "num_access_files               800 non-null int64\n",
      "num_outbound_cmds              800 non-null int64\n",
      "is_host_login                  800 non-null int64\n",
      "is_guest_login                 800 non-null int64\n",
      "count                          800 non-null int64\n",
      "srv_count                      800 non-null int64\n",
      "serror_rate                    800 non-null float64\n",
      "srv_serror_rate                800 non-null float64\n",
      "rerror_rate                    800 non-null float64\n",
      "srv_rerror_rate                800 non-null float64\n",
      "same_srv_rate                  800 non-null float64\n",
      "diff_srv_rate                  800 non-null float64\n",
      "srv_diff_host_rate             800 non-null float64\n",
      "dst_host_count                 800 non-null int64\n",
      "dst_host_srv_count             800 non-null int64\n",
      "dst_host_same_srv_rate         800 non-null float64\n",
      "dst_host_diff_srv_rate         800 non-null float64\n",
      "dst_host_same_src_port_rate    800 non-null float64\n",
      "dst_host_srv_diff_host_rate    800 non-null float64\n",
      "dst_host_serror_rate           800 non-null float64\n",
      "dst_host_srv_serror_rate       800 non-null float64\n",
      "dst_host_rerror_rate           800 non-null float64\n",
      "dst_host_srv_rerror_rate       800 non-null float64\n",
      "attack_type                    800 non-null int64\n",
      "dtypes: float64(15), int64(24), object(3)\n",
      "memory usage: 268.8+ KB\n"
     ]
    }
   ],
   "source": [
    "traindata.info()"
   ]
  },
  {
   "cell_type": "markdown",
   "metadata": {},
   "source": [
    "#### 1. 檢視攻擊種類分佈"
   ]
  },
  {
   "cell_type": "code",
   "execution_count": 6,
   "metadata": {
    "collapsed": false
   },
   "outputs": [
    {
     "data": {
      "text/plain": [
       "[<matplotlib.text.Text at 0x10f8be790>,\n",
       " <matplotlib.text.Text at 0x10f8c6750>,\n",
       " <matplotlib.text.Text at 0x10fb57f10>,\n",
       " <matplotlib.text.Text at 0x10fb636d0>]"
      ]
     },
     "execution_count": 6,
     "metadata": {},
     "output_type": "execute_result"
    },
    {
     "data": {
      "image/png": "[encoded data removed]",
      "text/plain": [
       "<matplotlib.figure.Figure at 0x103a9c1d0>"
      ]
     },
     "metadata": {},
     "output_type": "display_data"
    }
   ],
   "source": [
    "plt.figure(figsize = (12, 6))\n",
    "ax = sns.barplot(x=range(0, len(traindata['attack_type'].value_counts())), y=traindata['attack_type'].value_counts().tolist())\n",
    "attack_t = [attack_type_list[i] for i in traindata['attack_type'].value_counts().index]\n",
    "plt.legend(attack_t,loc=0)\n",
    "ax.set_xticklabels(attack_t)"
   ]
  },
  {
   "cell_type": "markdown",
   "metadata": {},
   "source": [
    "以攻擊型態來說，最常見的是DOS，其次是Probe，其餘兩個比較少見"
   ]
  },
  {
   "cell_type": "markdown",
   "metadata": {},
   "source": [
    "#### 2. 資料標準化"
   ]
  },
  {
   "cell_type": "code",
   "execution_count": 7,
   "metadata": {
    "collapsed": false
   },
   "outputs": [],
   "source": [
    "data_all = pd.concat([traindata, testdata])\n",
    "traindata_df = pd.get_dummies(\n",
    "    Processor.normalize(data_all.drop(['attack_type'], axis=1)))[:len(traindata)]\n",
    "testdata_df = pd.get_dummies(\n",
    "    Processor.normalize(data_all.drop(['attack_type'], axis=1)))[len(traindata):]\n",
    "traindata_df['attack_type'] = traindata['attack_type']\n",
    "testdata_df['attack_type'] = testdata['attack_type']\n",
    "anomalydata_df = traindata_df[traindata_df['attack_type']!=0]\n",
    "anomalydata_df.index = range(0, len(anomalydata_df))\n",
    "normaldata_df = traindata_df[traindata_df['attack_type']==0]\n",
    "normaldata_df.index = range(0, len(normaldata_df))"
   ]
  },
  {
   "cell_type": "markdown",
   "metadata": {},
   "source": [
    "###### 把異常和正常資料分離出來"
   ]
  },
  {
   "cell_type": "code",
   "execution_count": 8,
   "metadata": {
    "collapsed": false
   },
   "outputs": [
    {
     "data": {
      "text/html": [
       "<div>\n",
       "<table border=\"1\" class=\"dataframe\">\n",
       "  <thead>\n",
       "    <tr style=\"text-align: right;\">\n",
       "      <th></th>\n",
       "      <th>duration</th>\n",
       "      <th>src_bytes</th>\n",
       "      <th>dst_bytes</th>\n",
       "      <th>land</th>\n",
       "      <th>wrong_fragment</th>\n",
       "      <th>urgent</th>\n",
       "      <th>hot</th>\n",
       "      <th>num_failed_logins</th>\n",
       "      <th>logged_in</th>\n",
       "      <th>num_compromised</th>\n",
       "      <th>...</th>\n",
       "      <th>service_whois</th>\n",
       "      <th>flag_REJ</th>\n",
       "      <th>flag_RSTO</th>\n",
       "      <th>flag_RSTOS0</th>\n",
       "      <th>flag_RSTR</th>\n",
       "      <th>flag_S0</th>\n",
       "      <th>flag_S1</th>\n",
       "      <th>flag_SF</th>\n",
       "      <th>flag_SH</th>\n",
       "      <th>attack_type</th>\n",
       "    </tr>\n",
       "  </thead>\n",
       "  <tbody>\n",
       "    <tr>\n",
       "      <th>0</th>\n",
       "      <td>-0.106264</td>\n",
       "      <td>-0.034246</td>\n",
       "      <td>-0.005726</td>\n",
       "      <td>0</td>\n",
       "      <td>-0.112724</td>\n",
       "      <td>0</td>\n",
       "      <td>-0.09914</td>\n",
       "      <td>-0.054827</td>\n",
       "      <td>1.260588</td>\n",
       "      <td>-0.031916</td>\n",
       "      <td>...</td>\n",
       "      <td>0.0</td>\n",
       "      <td>0.0</td>\n",
       "      <td>0.0</td>\n",
       "      <td>0.0</td>\n",
       "      <td>0.0</td>\n",
       "      <td>0.0</td>\n",
       "      <td>0.0</td>\n",
       "      <td>1.0</td>\n",
       "      <td>0.0</td>\n",
       "      <td>0</td>\n",
       "    </tr>\n",
       "    <tr>\n",
       "      <th>1</th>\n",
       "      <td>-0.106264</td>\n",
       "      <td>-0.034228</td>\n",
       "      <td>-0.039175</td>\n",
       "      <td>0</td>\n",
       "      <td>-0.112724</td>\n",
       "      <td>0</td>\n",
       "      <td>-0.09914</td>\n",
       "      <td>-0.054827</td>\n",
       "      <td>1.260588</td>\n",
       "      <td>-0.031916</td>\n",
       "      <td>...</td>\n",
       "      <td>0.0</td>\n",
       "      <td>0.0</td>\n",
       "      <td>0.0</td>\n",
       "      <td>0.0</td>\n",
       "      <td>0.0</td>\n",
       "      <td>0.0</td>\n",
       "      <td>0.0</td>\n",
       "      <td>1.0</td>\n",
       "      <td>0.0</td>\n",
       "      <td>0</td>\n",
       "    </tr>\n",
       "    <tr>\n",
       "      <th>2</th>\n",
       "      <td>-0.106264</td>\n",
       "      <td>-0.034216</td>\n",
       "      <td>-0.036508</td>\n",
       "      <td>0</td>\n",
       "      <td>-0.112724</td>\n",
       "      <td>0</td>\n",
       "      <td>-0.09914</td>\n",
       "      <td>-0.054827</td>\n",
       "      <td>1.260588</td>\n",
       "      <td>-0.031916</td>\n",
       "      <td>...</td>\n",
       "      <td>0.0</td>\n",
       "      <td>0.0</td>\n",
       "      <td>0.0</td>\n",
       "      <td>0.0</td>\n",
       "      <td>0.0</td>\n",
       "      <td>0.0</td>\n",
       "      <td>0.0</td>\n",
       "      <td>1.0</td>\n",
       "      <td>0.0</td>\n",
       "      <td>0</td>\n",
       "    </tr>\n",
       "    <tr>\n",
       "      <th>3</th>\n",
       "      <td>-0.106264</td>\n",
       "      <td>-0.034229</td>\n",
       "      <td>-0.038552</td>\n",
       "      <td>0</td>\n",
       "      <td>-0.112724</td>\n",
       "      <td>0</td>\n",
       "      <td>-0.09914</td>\n",
       "      <td>-0.054827</td>\n",
       "      <td>1.260588</td>\n",
       "      <td>-0.031916</td>\n",
       "      <td>...</td>\n",
       "      <td>0.0</td>\n",
       "      <td>0.0</td>\n",
       "      <td>0.0</td>\n",
       "      <td>0.0</td>\n",
       "      <td>0.0</td>\n",
       "      <td>0.0</td>\n",
       "      <td>0.0</td>\n",
       "      <td>1.0</td>\n",
       "      <td>0.0</td>\n",
       "      <td>0</td>\n",
       "    </tr>\n",
       "    <tr>\n",
       "      <th>4</th>\n",
       "      <td>-0.106264</td>\n",
       "      <td>-0.034315</td>\n",
       "      <td>-0.040555</td>\n",
       "      <td>0</td>\n",
       "      <td>-0.112724</td>\n",
       "      <td>0</td>\n",
       "      <td>-0.09914</td>\n",
       "      <td>-0.054827</td>\n",
       "      <td>-0.792487</td>\n",
       "      <td>-0.031916</td>\n",
       "      <td>...</td>\n",
       "      <td>0.0</td>\n",
       "      <td>0.0</td>\n",
       "      <td>0.0</td>\n",
       "      <td>0.0</td>\n",
       "      <td>0.0</td>\n",
       "      <td>0.0</td>\n",
       "      <td>0.0</td>\n",
       "      <td>1.0</td>\n",
       "      <td>0.0</td>\n",
       "      <td>0</td>\n",
       "    </tr>\n",
       "  </tbody>\n",
       "</table>\n",
       "<p>5 rows × 106 columns</p>\n",
       "</div>"
      ],
      "text/plain": [
       "   duration  src_bytes  dst_bytes  land  wrong_fragment  urgent      hot  \\\n",
       "0 -0.106264  -0.034246  -0.005726     0       -0.112724       0 -0.09914   \n",
       "1 -0.106264  -0.034228  -0.039175     0       -0.112724       0 -0.09914   \n",
       "2 -0.106264  -0.034216  -0.036508     0       -0.112724       0 -0.09914   \n",
       "3 -0.106264  -0.034229  -0.038552     0       -0.112724       0 -0.09914   \n",
       "4 -0.106264  -0.034315  -0.040555     0       -0.112724       0 -0.09914   \n",
       "\n",
       "   num_failed_logins  logged_in  num_compromised     ...       service_whois  \\\n",
       "0          -0.054827   1.260588        -0.031916     ...                 0.0   \n",
       "1          -0.054827   1.260588        -0.031916     ...                 0.0   \n",
       "2          -0.054827   1.260588        -0.031916     ...                 0.0   \n",
       "3          -0.054827   1.260588        -0.031916     ...                 0.0   \n",
       "4          -0.054827  -0.792487        -0.031916     ...                 0.0   \n",
       "\n",
       "   flag_REJ  flag_RSTO  flag_RSTOS0  flag_RSTR  flag_S0  flag_S1  flag_SF  \\\n",
       "0       0.0        0.0          0.0        0.0      0.0      0.0      1.0   \n",
       "1       0.0        0.0          0.0        0.0      0.0      0.0      1.0   \n",
       "2       0.0        0.0          0.0        0.0      0.0      0.0      1.0   \n",
       "3       0.0        0.0          0.0        0.0      0.0      0.0      1.0   \n",
       "4       0.0        0.0          0.0        0.0      0.0      0.0      1.0   \n",
       "\n",
       "   flag_SH  attack_type  \n",
       "0      0.0            0  \n",
       "1      0.0            0  \n",
       "2      0.0            0  \n",
       "3      0.0            0  \n",
       "4      0.0            0  \n",
       "\n",
       "[5 rows x 106 columns]"
      ]
     },
     "execution_count": 8,
     "metadata": {},
     "output_type": "execute_result"
    }
   ],
   "source": [
    "normaldata_df.head()"
   ]
  },
  {
   "cell_type": "code",
   "execution_count": 9,
   "metadata": {
    "collapsed": false
   },
   "outputs": [
    {
     "data": {
      "text/html": [
       "<div>\n",
       "<table border=\"1\" class=\"dataframe\">\n",
       "  <thead>\n",
       "    <tr style=\"text-align: right;\">\n",
       "      <th></th>\n",
       "      <th>duration</th>\n",
       "      <th>src_bytes</th>\n",
       "      <th>dst_bytes</th>\n",
       "      <th>land</th>\n",
       "      <th>wrong_fragment</th>\n",
       "      <th>urgent</th>\n",
       "      <th>hot</th>\n",
       "      <th>num_failed_logins</th>\n",
       "      <th>logged_in</th>\n",
       "      <th>num_compromised</th>\n",
       "      <th>...</th>\n",
       "      <th>service_whois</th>\n",
       "      <th>flag_REJ</th>\n",
       "      <th>flag_RSTO</th>\n",
       "      <th>flag_RSTOS0</th>\n",
       "      <th>flag_RSTR</th>\n",
       "      <th>flag_S0</th>\n",
       "      <th>flag_S1</th>\n",
       "      <th>flag_SF</th>\n",
       "      <th>flag_SH</th>\n",
       "      <th>attack_type</th>\n",
       "    </tr>\n",
       "  </thead>\n",
       "  <tbody>\n",
       "    <tr>\n",
       "      <th>0</th>\n",
       "      <td>-0.106264</td>\n",
       "      <td>-0.03433</td>\n",
       "      <td>-0.041227</td>\n",
       "      <td>0</td>\n",
       "      <td>-0.112724</td>\n",
       "      <td>0</td>\n",
       "      <td>-0.09914</td>\n",
       "      <td>-0.054827</td>\n",
       "      <td>-0.792487</td>\n",
       "      <td>-0.031916</td>\n",
       "      <td>...</td>\n",
       "      <td>0.0</td>\n",
       "      <td>1.0</td>\n",
       "      <td>0.0</td>\n",
       "      <td>0.0</td>\n",
       "      <td>0.0</td>\n",
       "      <td>0.0</td>\n",
       "      <td>0.0</td>\n",
       "      <td>0.0</td>\n",
       "      <td>0.0</td>\n",
       "      <td>1</td>\n",
       "    </tr>\n",
       "    <tr>\n",
       "      <th>1</th>\n",
       "      <td>-0.106264</td>\n",
       "      <td>-0.03433</td>\n",
       "      <td>-0.041227</td>\n",
       "      <td>0</td>\n",
       "      <td>-0.112724</td>\n",
       "      <td>0</td>\n",
       "      <td>-0.09914</td>\n",
       "      <td>-0.054827</td>\n",
       "      <td>-0.792487</td>\n",
       "      <td>-0.031916</td>\n",
       "      <td>...</td>\n",
       "      <td>0.0</td>\n",
       "      <td>1.0</td>\n",
       "      <td>0.0</td>\n",
       "      <td>0.0</td>\n",
       "      <td>0.0</td>\n",
       "      <td>0.0</td>\n",
       "      <td>0.0</td>\n",
       "      <td>0.0</td>\n",
       "      <td>0.0</td>\n",
       "      <td>1</td>\n",
       "    </tr>\n",
       "    <tr>\n",
       "      <th>2</th>\n",
       "      <td>-0.106264</td>\n",
       "      <td>-0.03433</td>\n",
       "      <td>-0.041227</td>\n",
       "      <td>0</td>\n",
       "      <td>-0.112724</td>\n",
       "      <td>0</td>\n",
       "      <td>-0.09914</td>\n",
       "      <td>-0.054827</td>\n",
       "      <td>-0.792487</td>\n",
       "      <td>-0.031916</td>\n",
       "      <td>...</td>\n",
       "      <td>0.0</td>\n",
       "      <td>0.0</td>\n",
       "      <td>0.0</td>\n",
       "      <td>0.0</td>\n",
       "      <td>0.0</td>\n",
       "      <td>1.0</td>\n",
       "      <td>0.0</td>\n",
       "      <td>0.0</td>\n",
       "      <td>0.0</td>\n",
       "      <td>1</td>\n",
       "    </tr>\n",
       "    <tr>\n",
       "      <th>3</th>\n",
       "      <td>-0.106264</td>\n",
       "      <td>-0.03433</td>\n",
       "      <td>-0.041227</td>\n",
       "      <td>0</td>\n",
       "      <td>-0.112724</td>\n",
       "      <td>0</td>\n",
       "      <td>-0.09914</td>\n",
       "      <td>-0.054827</td>\n",
       "      <td>-0.792487</td>\n",
       "      <td>-0.031916</td>\n",
       "      <td>...</td>\n",
       "      <td>0.0</td>\n",
       "      <td>0.0</td>\n",
       "      <td>0.0</td>\n",
       "      <td>0.0</td>\n",
       "      <td>0.0</td>\n",
       "      <td>1.0</td>\n",
       "      <td>0.0</td>\n",
       "      <td>0.0</td>\n",
       "      <td>0.0</td>\n",
       "      <td>1</td>\n",
       "    </tr>\n",
       "    <tr>\n",
       "      <th>4</th>\n",
       "      <td>-0.106264</td>\n",
       "      <td>-0.03433</td>\n",
       "      <td>-0.041227</td>\n",
       "      <td>0</td>\n",
       "      <td>-0.112724</td>\n",
       "      <td>0</td>\n",
       "      <td>-0.09914</td>\n",
       "      <td>-0.054827</td>\n",
       "      <td>-0.792487</td>\n",
       "      <td>-0.031916</td>\n",
       "      <td>...</td>\n",
       "      <td>0.0</td>\n",
       "      <td>0.0</td>\n",
       "      <td>0.0</td>\n",
       "      <td>0.0</td>\n",
       "      <td>0.0</td>\n",
       "      <td>1.0</td>\n",
       "      <td>0.0</td>\n",
       "      <td>0.0</td>\n",
       "      <td>0.0</td>\n",
       "      <td>1</td>\n",
       "    </tr>\n",
       "  </tbody>\n",
       "</table>\n",
       "<p>5 rows × 106 columns</p>\n",
       "</div>"
      ],
      "text/plain": [
       "   duration  src_bytes  dst_bytes  land  wrong_fragment  urgent      hot  \\\n",
       "0 -0.106264   -0.03433  -0.041227     0       -0.112724       0 -0.09914   \n",
       "1 -0.106264   -0.03433  -0.041227     0       -0.112724       0 -0.09914   \n",
       "2 -0.106264   -0.03433  -0.041227     0       -0.112724       0 -0.09914   \n",
       "3 -0.106264   -0.03433  -0.041227     0       -0.112724       0 -0.09914   \n",
       "4 -0.106264   -0.03433  -0.041227     0       -0.112724       0 -0.09914   \n",
       "\n",
       "   num_failed_logins  logged_in  num_compromised     ...       service_whois  \\\n",
       "0          -0.054827  -0.792487        -0.031916     ...                 0.0   \n",
       "1          -0.054827  -0.792487        -0.031916     ...                 0.0   \n",
       "2          -0.054827  -0.792487        -0.031916     ...                 0.0   \n",
       "3          -0.054827  -0.792487        -0.031916     ...                 0.0   \n",
       "4          -0.054827  -0.792487        -0.031916     ...                 0.0   \n",
       "\n",
       "   flag_REJ  flag_RSTO  flag_RSTOS0  flag_RSTR  flag_S0  flag_S1  flag_SF  \\\n",
       "0       1.0        0.0          0.0        0.0      0.0      0.0      0.0   \n",
       "1       1.0        0.0          0.0        0.0      0.0      0.0      0.0   \n",
       "2       0.0        0.0          0.0        0.0      1.0      0.0      0.0   \n",
       "3       0.0        0.0          0.0        0.0      1.0      0.0      0.0   \n",
       "4       0.0        0.0          0.0        0.0      1.0      0.0      0.0   \n",
       "\n",
       "   flag_SH  attack_type  \n",
       "0      0.0            1  \n",
       "1      0.0            1  \n",
       "2      0.0            1  \n",
       "3      0.0            1  \n",
       "4      0.0            1  \n",
       "\n",
       "[5 rows x 106 columns]"
      ]
     },
     "execution_count": 9,
     "metadata": {},
     "output_type": "execute_result"
    }
   ],
   "source": [
    "anomalydata_df.head()"
   ]
  },
  {
   "cell_type": "code",
   "execution_count": 10,
   "metadata": {
    "collapsed": false
   },
   "outputs": [
    {
     "data": {
      "text/html": [
       "<div>\n",
       "<table border=\"1\" class=\"dataframe\">\n",
       "  <thead>\n",
       "    <tr style=\"text-align: right;\">\n",
       "      <th></th>\n",
       "      <th>duration</th>\n",
       "      <th>protocol_type</th>\n",
       "      <th>service</th>\n",
       "      <th>flag</th>\n",
       "      <th>src_bytes</th>\n",
       "      <th>dst_bytes</th>\n",
       "      <th>land</th>\n",
       "      <th>wrong_fragment</th>\n",
       "      <th>urgent</th>\n",
       "      <th>hot</th>\n",
       "      <th>...</th>\n",
       "      <th>dst_host_srv_count</th>\n",
       "      <th>dst_host_same_srv_rate</th>\n",
       "      <th>dst_host_diff_srv_rate</th>\n",
       "      <th>dst_host_same_src_port_rate</th>\n",
       "      <th>dst_host_srv_diff_host_rate</th>\n",
       "      <th>dst_host_serror_rate</th>\n",
       "      <th>dst_host_srv_serror_rate</th>\n",
       "      <th>dst_host_rerror_rate</th>\n",
       "      <th>dst_host_srv_rerror_rate</th>\n",
       "      <th>attack_type</th>\n",
       "    </tr>\n",
       "  </thead>\n",
       "  <tbody>\n",
       "    <tr>\n",
       "      <th>64173</th>\n",
       "      <td>0</td>\n",
       "      <td>tcp</td>\n",
       "      <td>http</td>\n",
       "      <td>SF</td>\n",
       "      <td>346</td>\n",
       "      <td>6419</td>\n",
       "      <td>0</td>\n",
       "      <td>0</td>\n",
       "      <td>0</td>\n",
       "      <td>0</td>\n",
       "      <td>...</td>\n",
       "      <td>234</td>\n",
       "      <td>1.00</td>\n",
       "      <td>0.00</td>\n",
       "      <td>0.08</td>\n",
       "      <td>0.18</td>\n",
       "      <td>0.0</td>\n",
       "      <td>0.0</td>\n",
       "      <td>0.0</td>\n",
       "      <td>0.95</td>\n",
       "      <td>0</td>\n",
       "    </tr>\n",
       "    <tr>\n",
       "      <th>4905</th>\n",
       "      <td>0</td>\n",
       "      <td>icmp</td>\n",
       "      <td>eco_i</td>\n",
       "      <td>SF</td>\n",
       "      <td>8</td>\n",
       "      <td>0</td>\n",
       "      <td>0</td>\n",
       "      <td>0</td>\n",
       "      <td>0</td>\n",
       "      <td>0</td>\n",
       "      <td>...</td>\n",
       "      <td>141</td>\n",
       "      <td>1.00</td>\n",
       "      <td>0.00</td>\n",
       "      <td>1.00</td>\n",
       "      <td>0.50</td>\n",
       "      <td>0.0</td>\n",
       "      <td>0.0</td>\n",
       "      <td>0.0</td>\n",
       "      <td>0.00</td>\n",
       "      <td>3</td>\n",
       "    </tr>\n",
       "    <tr>\n",
       "      <th>61925</th>\n",
       "      <td>0</td>\n",
       "      <td>tcp</td>\n",
       "      <td>http</td>\n",
       "      <td>SF</td>\n",
       "      <td>282</td>\n",
       "      <td>451</td>\n",
       "      <td>0</td>\n",
       "      <td>0</td>\n",
       "      <td>0</td>\n",
       "      <td>0</td>\n",
       "      <td>...</td>\n",
       "      <td>255</td>\n",
       "      <td>1.00</td>\n",
       "      <td>0.00</td>\n",
       "      <td>0.08</td>\n",
       "      <td>0.05</td>\n",
       "      <td>0.0</td>\n",
       "      <td>0.0</td>\n",
       "      <td>0.0</td>\n",
       "      <td>0.00</td>\n",
       "      <td>0</td>\n",
       "    </tr>\n",
       "    <tr>\n",
       "      <th>87135</th>\n",
       "      <td>0</td>\n",
       "      <td>tcp</td>\n",
       "      <td>http</td>\n",
       "      <td>SF</td>\n",
       "      <td>327</td>\n",
       "      <td>5402</td>\n",
       "      <td>0</td>\n",
       "      <td>0</td>\n",
       "      <td>0</td>\n",
       "      <td>0</td>\n",
       "      <td>...</td>\n",
       "      <td>255</td>\n",
       "      <td>1.00</td>\n",
       "      <td>0.00</td>\n",
       "      <td>0.09</td>\n",
       "      <td>0.08</td>\n",
       "      <td>0.0</td>\n",
       "      <td>0.0</td>\n",
       "      <td>0.0</td>\n",
       "      <td>0.00</td>\n",
       "      <td>0</td>\n",
       "    </tr>\n",
       "    <tr>\n",
       "      <th>116970</th>\n",
       "      <td>0</td>\n",
       "      <td>tcp</td>\n",
       "      <td>systat</td>\n",
       "      <td>S0</td>\n",
       "      <td>0</td>\n",
       "      <td>0</td>\n",
       "      <td>0</td>\n",
       "      <td>0</td>\n",
       "      <td>0</td>\n",
       "      <td>0</td>\n",
       "      <td>...</td>\n",
       "      <td>17</td>\n",
       "      <td>0.07</td>\n",
       "      <td>0.06</td>\n",
       "      <td>0.00</td>\n",
       "      <td>0.00</td>\n",
       "      <td>1.0</td>\n",
       "      <td>1.0</td>\n",
       "      <td>0.0</td>\n",
       "      <td>0.00</td>\n",
       "      <td>1</td>\n",
       "    </tr>\n",
       "  </tbody>\n",
       "</table>\n",
       "<p>5 rows × 42 columns</p>\n",
       "</div>"
      ],
      "text/plain": [
       "        duration protocol_type service flag  src_bytes  dst_bytes  land  \\\n",
       "64173          0           tcp    http   SF        346       6419     0   \n",
       "4905           0          icmp   eco_i   SF          8          0     0   \n",
       "61925          0           tcp    http   SF        282        451     0   \n",
       "87135          0           tcp    http   SF        327       5402     0   \n",
       "116970         0           tcp  systat   S0          0          0     0   \n",
       "\n",
       "        wrong_fragment  urgent  hot     ...       dst_host_srv_count  \\\n",
       "64173                0       0    0     ...                      234   \n",
       "4905                 0       0    0     ...                      141   \n",
       "61925                0       0    0     ...                      255   \n",
       "87135                0       0    0     ...                      255   \n",
       "116970               0       0    0     ...                       17   \n",
       "\n",
       "        dst_host_same_srv_rate  dst_host_diff_srv_rate  \\\n",
       "64173                     1.00                    0.00   \n",
       "4905                      1.00                    0.00   \n",
       "61925                     1.00                    0.00   \n",
       "87135                     1.00                    0.00   \n",
       "116970                    0.07                    0.06   \n",
       "\n",
       "        dst_host_same_src_port_rate  dst_host_srv_diff_host_rate  \\\n",
       "64173                          0.08                         0.18   \n",
       "4905                           1.00                         0.50   \n",
       "61925                          0.08                         0.05   \n",
       "87135                          0.09                         0.08   \n",
       "116970                         0.00                         0.00   \n",
       "\n",
       "        dst_host_serror_rate  dst_host_srv_serror_rate  dst_host_rerror_rate  \\\n",
       "64173                    0.0                       0.0                   0.0   \n",
       "4905                     0.0                       0.0                   0.0   \n",
       "61925                    0.0                       0.0                   0.0   \n",
       "87135                    0.0                       0.0                   0.0   \n",
       "116970                   1.0                       1.0                   0.0   \n",
       "\n",
       "        dst_host_srv_rerror_rate  attack_type  \n",
       "64173                       0.95            0  \n",
       "4905                        0.00            3  \n",
       "61925                       0.00            0  \n",
       "87135                       0.00            0  \n",
       "116970                      0.00            1  \n",
       "\n",
       "[5 rows x 42 columns]"
      ]
     },
     "execution_count": 10,
     "metadata": {},
     "output_type": "execute_result"
    }
   ],
   "source": [
    "testdata.head()"
   ]
  },
  {
   "cell_type": "markdown",
   "metadata": {},
   "source": [
    "#### 3. 異常資料分群"
   ]
  },
  {
   "cell_type": "code",
   "execution_count": 11,
   "metadata": {
    "collapsed": false
   },
   "outputs": [],
   "source": [
    "K = 3 #分幾群\n",
    "kmeans = KMeans(n_clusters=K, random_state=0).fit(anomalydata_df.iloc[:,:anomalydata_df.shape[1]-1])\n",
    "clustors = kmeans.predict(anomalydata_df.iloc[:,:anomalydata_df.shape[1]-1])"
   ]
  },
  {
   "cell_type": "code",
   "execution_count": 12,
   "metadata": {
    "collapsed": false,
    "scrolled": true
   },
   "outputs": [
    {
     "data": {
      "text/plain": [
       "[<matplotlib.text.Text at 0x110b47790>,\n",
       " <matplotlib.text.Text at 0x110b51b90>,\n",
       " <matplotlib.text.Text at 0x110bb0810>]"
      ]
     },
     "execution_count": 12,
     "metadata": {},
     "output_type": "execute_result"
    },
    {
     "data": {
      "image/png": "[encoded data removed]",
      "text/plain": [
       "<matplotlib.figure.Figure at 0x10fa9ce90>"
      ]
     },
     "metadata": {},
     "output_type": "display_data"
    }
   ],
   "source": [
    "plt.figure(figsize = (12, 6))\n",
    "ax = sns.barplot(x=range(0, len(pd.Series(clustors).value_counts())), y=pd.Series(clustors).value_counts().tolist())\n",
    "plt.legend(pd.Series(clustors).value_counts().index.tolist(),loc=0)\n",
    "ax.set_xticklabels(pd.Series(clustors).value_counts().index.tolist())"
   ]
  },
  {
   "cell_type": "markdown",
   "metadata": {},
   "source": [
    "有一群特別多，但還算是可接受的範圍"
   ]
  },
  {
   "cell_type": "code",
   "execution_count": 13,
   "metadata": {
    "collapsed": false
   },
   "outputs": [],
   "source": [
    "try:\n",
    "    anomalydata_df = anomalydata_df.drop(['clusters'], axis = 1)\n",
    "except:\n",
    "    pass\n",
    "anomalydata_df.insert(0, 'clusters', pd.Series(clustors, dtype=np.int64))"
   ]
  },
  {
   "cell_type": "code",
   "execution_count": 14,
   "metadata": {
    "collapsed": false
   },
   "outputs": [],
   "source": [
    "cluster_df = []\n",
    "for cluster in sorted(anomalydata_df['clusters'].unique()):\n",
    "    node = anomalydata_df[anomalydata_df['clusters']==cluster]\n",
    "    node = node.drop(['clusters'], axis=1)\n",
    "    cluster_df.append(node)"
   ]
  },
  {
   "cell_type": "markdown",
   "metadata": {},
   "source": [
    "###### 檢視各群的攻擊型態分佈"
   ]
  },
  {
   "cell_type": "code",
   "execution_count": 15,
   "metadata": {
    "collapsed": false
   },
   "outputs": [
    {
     "data": {
      "image/png": "[encoded data removed]",
      "text/plain": [
       "<matplotlib.figure.Figure at 0x10fc61b90>"
      ]
     },
     "metadata": {},
     "output_type": "display_data"
    }
   ],
   "source": [
    "fig, ax = plt.subplots(len(cluster_df), 1, figsize = (12, len(cluster_df) * 7))\n",
    "for index, cluster in enumerate(cluster_df):\n",
    "    sns.barplot(x=range(0, len(cluster['attack_type'].value_counts()))\\\n",
    "                     , y=(cluster['attack_type'].value_counts().sort_index()).tolist()\\\n",
    "                     , ax = ax[index])\n",
    "    attack_t = [attack_type_list[i] for i in cluster['attack_type'].value_counts().sort_index().index]\n",
    "    ax[index].set_xticklabels(attack_t)\n",
    "    ax[index].set_xlabel(\"Clustor%d\" % index)"
   ]
  },
  {
   "cell_type": "markdown",
   "metadata": {},
   "source": [
    "#### 4. 正常資料與異常合併"
   ]
  },
  {
   "cell_type": "code",
   "execution_count": 16,
   "metadata": {
    "collapsed": true
   },
   "outputs": [],
   "source": [
    "for index in range(0, len(cluster_df)):\n",
    "    df = pd.concat([cluster_df[0], normaldata_df], ignore_index = True)\n",
    "    cluster_df[index] = pd.concat([cluster_df[index], normaldata_df], ignore_index = True)\n",
    "    cluster_df[index] = cluster_df[index].iloc[np.random.permutation(len(cluster_df[index]))]\n",
    "    cluster_df[index].index = range(0, len(cluster_df[index]))"
   ]
  },
  {
   "cell_type": "code",
   "execution_count": 17,
   "metadata": {
    "collapsed": false
   },
   "outputs": [
    {
     "data": {
      "image/png": "[encoded data removed]",
      "text/plain": [
       "<matplotlib.figure.Figure at 0x10fb71cd0>"
      ]
     },
     "metadata": {},
     "output_type": "display_data"
    }
   ],
   "source": [
    "fig, ax = plt.subplots(len(cluster_df), 1, figsize = (12, len(cluster_df) * 7))\n",
    "for index, cluster in enumerate(cluster_df):\n",
    "    sns.barplot(x=range(0, len(cluster['attack_type'].value_counts().sort_index()))\\\n",
    "                     , y=(cluster['attack_type'].value_counts().sort_index()).tolist()\\\n",
    "                     , ax = ax[index])\n",
    "    attack_t = [attack_type_list[i] for i in cluster['attack_type'].value_counts().sort_index().index]\n",
    "    ax[index].set_xticklabels(attack_t)\n",
    "    ax[index].set_xlabel(\"Clustor%d\" % index)"
   ]
  },
  {
   "cell_type": "markdown",
   "metadata": {},
   "source": [
    "## 針對資料進行學習"
   ]
  },
  {
   "cell_type": "code",
   "execution_count": 18,
   "metadata": {
    "collapsed": false
   },
   "outputs": [
    {
     "data": {
      "text/html": [
       "<div>\n",
       "<table border=\"1\" class=\"dataframe\">\n",
       "  <thead>\n",
       "    <tr style=\"text-align: right;\">\n",
       "      <th></th>\n",
       "      <th>duration</th>\n",
       "      <th>src_bytes</th>\n",
       "      <th>dst_bytes</th>\n",
       "      <th>land</th>\n",
       "      <th>wrong_fragment</th>\n",
       "      <th>urgent</th>\n",
       "      <th>hot</th>\n",
       "      <th>num_failed_logins</th>\n",
       "      <th>logged_in</th>\n",
       "      <th>num_compromised</th>\n",
       "      <th>...</th>\n",
       "      <th>service_whois</th>\n",
       "      <th>flag_REJ</th>\n",
       "      <th>flag_RSTO</th>\n",
       "      <th>flag_RSTOS0</th>\n",
       "      <th>flag_RSTR</th>\n",
       "      <th>flag_S0</th>\n",
       "      <th>flag_S1</th>\n",
       "      <th>flag_SF</th>\n",
       "      <th>flag_SH</th>\n",
       "      <th>attack_type</th>\n",
       "    </tr>\n",
       "  </thead>\n",
       "  <tbody>\n",
       "    <tr>\n",
       "      <th>115486</th>\n",
       "      <td>-0.106264</td>\n",
       "      <td>-0.034246</td>\n",
       "      <td>-0.005726</td>\n",
       "      <td>0</td>\n",
       "      <td>-0.112724</td>\n",
       "      <td>0</td>\n",
       "      <td>-0.09914</td>\n",
       "      <td>-0.054827</td>\n",
       "      <td>1.260588</td>\n",
       "      <td>-0.031916</td>\n",
       "      <td>...</td>\n",
       "      <td>0.0</td>\n",
       "      <td>0.0</td>\n",
       "      <td>0.0</td>\n",
       "      <td>0.0</td>\n",
       "      <td>0.0</td>\n",
       "      <td>0.0</td>\n",
       "      <td>0.0</td>\n",
       "      <td>1.0</td>\n",
       "      <td>0.0</td>\n",
       "      <td>0</td>\n",
       "    </tr>\n",
       "    <tr>\n",
       "      <th>7164</th>\n",
       "      <td>-0.106264</td>\n",
       "      <td>-0.034330</td>\n",
       "      <td>-0.041227</td>\n",
       "      <td>0</td>\n",
       "      <td>-0.112724</td>\n",
       "      <td>0</td>\n",
       "      <td>-0.09914</td>\n",
       "      <td>-0.054827</td>\n",
       "      <td>-0.792487</td>\n",
       "      <td>-0.031916</td>\n",
       "      <td>...</td>\n",
       "      <td>0.0</td>\n",
       "      <td>1.0</td>\n",
       "      <td>0.0</td>\n",
       "      <td>0.0</td>\n",
       "      <td>0.0</td>\n",
       "      <td>0.0</td>\n",
       "      <td>0.0</td>\n",
       "      <td>0.0</td>\n",
       "      <td>0.0</td>\n",
       "      <td>1</td>\n",
       "    </tr>\n",
       "    <tr>\n",
       "      <th>53730</th>\n",
       "      <td>-0.106264</td>\n",
       "      <td>-0.034228</td>\n",
       "      <td>-0.039175</td>\n",
       "      <td>0</td>\n",
       "      <td>-0.112724</td>\n",
       "      <td>0</td>\n",
       "      <td>-0.09914</td>\n",
       "      <td>-0.054827</td>\n",
       "      <td>1.260588</td>\n",
       "      <td>-0.031916</td>\n",
       "      <td>...</td>\n",
       "      <td>0.0</td>\n",
       "      <td>0.0</td>\n",
       "      <td>0.0</td>\n",
       "      <td>0.0</td>\n",
       "      <td>0.0</td>\n",
       "      <td>0.0</td>\n",
       "      <td>0.0</td>\n",
       "      <td>1.0</td>\n",
       "      <td>0.0</td>\n",
       "      <td>0</td>\n",
       "    </tr>\n",
       "    <tr>\n",
       "      <th>90944</th>\n",
       "      <td>-0.106264</td>\n",
       "      <td>-0.034216</td>\n",
       "      <td>-0.036508</td>\n",
       "      <td>0</td>\n",
       "      <td>-0.112724</td>\n",
       "      <td>0</td>\n",
       "      <td>-0.09914</td>\n",
       "      <td>-0.054827</td>\n",
       "      <td>1.260588</td>\n",
       "      <td>-0.031916</td>\n",
       "      <td>...</td>\n",
       "      <td>0.0</td>\n",
       "      <td>0.0</td>\n",
       "      <td>0.0</td>\n",
       "      <td>0.0</td>\n",
       "      <td>0.0</td>\n",
       "      <td>0.0</td>\n",
       "      <td>0.0</td>\n",
       "      <td>1.0</td>\n",
       "      <td>0.0</td>\n",
       "      <td>0</td>\n",
       "    </tr>\n",
       "    <tr>\n",
       "      <th>55674</th>\n",
       "      <td>-0.106264</td>\n",
       "      <td>-0.034330</td>\n",
       "      <td>-0.041227</td>\n",
       "      <td>0</td>\n",
       "      <td>-0.112724</td>\n",
       "      <td>0</td>\n",
       "      <td>-0.09914</td>\n",
       "      <td>-0.054827</td>\n",
       "      <td>-0.792487</td>\n",
       "      <td>-0.031916</td>\n",
       "      <td>...</td>\n",
       "      <td>0.0</td>\n",
       "      <td>1.0</td>\n",
       "      <td>0.0</td>\n",
       "      <td>0.0</td>\n",
       "      <td>0.0</td>\n",
       "      <td>0.0</td>\n",
       "      <td>0.0</td>\n",
       "      <td>0.0</td>\n",
       "      <td>0.0</td>\n",
       "      <td>1</td>\n",
       "    </tr>\n",
       "  </tbody>\n",
       "</table>\n",
       "<p>5 rows × 106 columns</p>\n",
       "</div>"
      ],
      "text/plain": [
       "        duration  src_bytes  dst_bytes  land  wrong_fragment  urgent      hot  \\\n",
       "115486 -0.106264  -0.034246  -0.005726     0       -0.112724       0 -0.09914   \n",
       "7164   -0.106264  -0.034330  -0.041227     0       -0.112724       0 -0.09914   \n",
       "53730  -0.106264  -0.034228  -0.039175     0       -0.112724       0 -0.09914   \n",
       "90944  -0.106264  -0.034216  -0.036508     0       -0.112724       0 -0.09914   \n",
       "55674  -0.106264  -0.034330  -0.041227     0       -0.112724       0 -0.09914   \n",
       "\n",
       "        num_failed_logins  logged_in  num_compromised     ...       \\\n",
       "115486          -0.054827   1.260588        -0.031916     ...        \n",
       "7164            -0.054827  -0.792487        -0.031916     ...        \n",
       "53730           -0.054827   1.260588        -0.031916     ...        \n",
       "90944           -0.054827   1.260588        -0.031916     ...        \n",
       "55674           -0.054827  -0.792487        -0.031916     ...        \n",
       "\n",
       "        service_whois  flag_REJ  flag_RSTO  flag_RSTOS0  flag_RSTR  flag_S0  \\\n",
       "115486            0.0       0.0        0.0          0.0        0.0      0.0   \n",
       "7164              0.0       1.0        0.0          0.0        0.0      0.0   \n",
       "53730             0.0       0.0        0.0          0.0        0.0      0.0   \n",
       "90944             0.0       0.0        0.0          0.0        0.0      0.0   \n",
       "55674             0.0       1.0        0.0          0.0        0.0      0.0   \n",
       "\n",
       "        flag_S1  flag_SF  flag_SH  attack_type  \n",
       "115486      0.0      1.0      0.0            0  \n",
       "7164        0.0      0.0      0.0            1  \n",
       "53730       0.0      1.0      0.0            0  \n",
       "90944       0.0      1.0      0.0            0  \n",
       "55674       0.0      0.0      0.0            1  \n",
       "\n",
       "[5 rows x 106 columns]"
      ]
     },
     "execution_count": 18,
     "metadata": {},
     "output_type": "execute_result"
    }
   ],
   "source": [
    "traindata_df.head()"
   ]
  },
  {
   "cell_type": "code",
   "execution_count": 19,
   "metadata": {
    "collapsed": false
   },
   "outputs": [
    {
     "data": {
      "text/html": [
       "<div>\n",
       "<table border=\"1\" class=\"dataframe\">\n",
       "  <thead>\n",
       "    <tr style=\"text-align: right;\">\n",
       "      <th></th>\n",
       "      <th>duration</th>\n",
       "      <th>src_bytes</th>\n",
       "      <th>dst_bytes</th>\n",
       "      <th>land</th>\n",
       "      <th>wrong_fragment</th>\n",
       "      <th>urgent</th>\n",
       "      <th>hot</th>\n",
       "      <th>num_failed_logins</th>\n",
       "      <th>logged_in</th>\n",
       "      <th>num_compromised</th>\n",
       "      <th>...</th>\n",
       "      <th>service_whois</th>\n",
       "      <th>flag_REJ</th>\n",
       "      <th>flag_RSTO</th>\n",
       "      <th>flag_RSTOS0</th>\n",
       "      <th>flag_RSTR</th>\n",
       "      <th>flag_S0</th>\n",
       "      <th>flag_S1</th>\n",
       "      <th>flag_SF</th>\n",
       "      <th>flag_SH</th>\n",
       "      <th>attack_type</th>\n",
       "    </tr>\n",
       "  </thead>\n",
       "  <tbody>\n",
       "    <tr>\n",
       "      <th>64173</th>\n",
       "      <td>-0.106264</td>\n",
       "      <td>-0.034208</td>\n",
       "      <td>-0.012461</td>\n",
       "      <td>0</td>\n",
       "      <td>-0.112724</td>\n",
       "      <td>0</td>\n",
       "      <td>-0.09914</td>\n",
       "      <td>-0.054827</td>\n",
       "      <td>1.260588</td>\n",
       "      <td>-0.031916</td>\n",
       "      <td>...</td>\n",
       "      <td>0.0</td>\n",
       "      <td>0.0</td>\n",
       "      <td>0.0</td>\n",
       "      <td>0.0</td>\n",
       "      <td>0.0</td>\n",
       "      <td>0.0</td>\n",
       "      <td>0.0</td>\n",
       "      <td>1.0</td>\n",
       "      <td>0.0</td>\n",
       "      <td>0</td>\n",
       "    </tr>\n",
       "    <tr>\n",
       "      <th>4905</th>\n",
       "      <td>-0.106264</td>\n",
       "      <td>-0.034327</td>\n",
       "      <td>-0.041227</td>\n",
       "      <td>0</td>\n",
       "      <td>-0.112724</td>\n",
       "      <td>0</td>\n",
       "      <td>-0.09914</td>\n",
       "      <td>-0.054827</td>\n",
       "      <td>-0.792487</td>\n",
       "      <td>-0.031916</td>\n",
       "      <td>...</td>\n",
       "      <td>0.0</td>\n",
       "      <td>0.0</td>\n",
       "      <td>0.0</td>\n",
       "      <td>0.0</td>\n",
       "      <td>0.0</td>\n",
       "      <td>0.0</td>\n",
       "      <td>0.0</td>\n",
       "      <td>1.0</td>\n",
       "      <td>0.0</td>\n",
       "      <td>3</td>\n",
       "    </tr>\n",
       "    <tr>\n",
       "      <th>61925</th>\n",
       "      <td>-0.106264</td>\n",
       "      <td>-0.034231</td>\n",
       "      <td>-0.039206</td>\n",
       "      <td>0</td>\n",
       "      <td>-0.112724</td>\n",
       "      <td>0</td>\n",
       "      <td>-0.09914</td>\n",
       "      <td>-0.054827</td>\n",
       "      <td>1.260588</td>\n",
       "      <td>-0.031916</td>\n",
       "      <td>...</td>\n",
       "      <td>0.0</td>\n",
       "      <td>0.0</td>\n",
       "      <td>0.0</td>\n",
       "      <td>0.0</td>\n",
       "      <td>0.0</td>\n",
       "      <td>0.0</td>\n",
       "      <td>0.0</td>\n",
       "      <td>1.0</td>\n",
       "      <td>0.0</td>\n",
       "      <td>0</td>\n",
       "    </tr>\n",
       "    <tr>\n",
       "      <th>87135</th>\n",
       "      <td>-0.106264</td>\n",
       "      <td>-0.034215</td>\n",
       "      <td>-0.017019</td>\n",
       "      <td>0</td>\n",
       "      <td>-0.112724</td>\n",
       "      <td>0</td>\n",
       "      <td>-0.09914</td>\n",
       "      <td>-0.054827</td>\n",
       "      <td>1.260588</td>\n",
       "      <td>-0.031916</td>\n",
       "      <td>...</td>\n",
       "      <td>0.0</td>\n",
       "      <td>0.0</td>\n",
       "      <td>0.0</td>\n",
       "      <td>0.0</td>\n",
       "      <td>0.0</td>\n",
       "      <td>0.0</td>\n",
       "      <td>0.0</td>\n",
       "      <td>1.0</td>\n",
       "      <td>0.0</td>\n",
       "      <td>0</td>\n",
       "    </tr>\n",
       "    <tr>\n",
       "      <th>116970</th>\n",
       "      <td>-0.106264</td>\n",
       "      <td>-0.034330</td>\n",
       "      <td>-0.041227</td>\n",
       "      <td>0</td>\n",
       "      <td>-0.112724</td>\n",
       "      <td>0</td>\n",
       "      <td>-0.09914</td>\n",
       "      <td>-0.054827</td>\n",
       "      <td>-0.792487</td>\n",
       "      <td>-0.031916</td>\n",
       "      <td>...</td>\n",
       "      <td>0.0</td>\n",
       "      <td>0.0</td>\n",
       "      <td>0.0</td>\n",
       "      <td>0.0</td>\n",
       "      <td>0.0</td>\n",
       "      <td>1.0</td>\n",
       "      <td>0.0</td>\n",
       "      <td>0.0</td>\n",
       "      <td>0.0</td>\n",
       "      <td>1</td>\n",
       "    </tr>\n",
       "  </tbody>\n",
       "</table>\n",
       "<p>5 rows × 106 columns</p>\n",
       "</div>"
      ],
      "text/plain": [
       "        duration  src_bytes  dst_bytes  land  wrong_fragment  urgent      hot  \\\n",
       "64173  -0.106264  -0.034208  -0.012461     0       -0.112724       0 -0.09914   \n",
       "4905   -0.106264  -0.034327  -0.041227     0       -0.112724       0 -0.09914   \n",
       "61925  -0.106264  -0.034231  -0.039206     0       -0.112724       0 -0.09914   \n",
       "87135  -0.106264  -0.034215  -0.017019     0       -0.112724       0 -0.09914   \n",
       "116970 -0.106264  -0.034330  -0.041227     0       -0.112724       0 -0.09914   \n",
       "\n",
       "        num_failed_logins  logged_in  num_compromised     ...       \\\n",
       "64173           -0.054827   1.260588        -0.031916     ...        \n",
       "4905            -0.054827  -0.792487        -0.031916     ...        \n",
       "61925           -0.054827   1.260588        -0.031916     ...        \n",
       "87135           -0.054827   1.260588        -0.031916     ...        \n",
       "116970          -0.054827  -0.792487        -0.031916     ...        \n",
       "\n",
       "        service_whois  flag_REJ  flag_RSTO  flag_RSTOS0  flag_RSTR  flag_S0  \\\n",
       "64173             0.0       0.0        0.0          0.0        0.0      0.0   \n",
       "4905              0.0       0.0        0.0          0.0        0.0      0.0   \n",
       "61925             0.0       0.0        0.0          0.0        0.0      0.0   \n",
       "87135             0.0       0.0        0.0          0.0        0.0      0.0   \n",
       "116970            0.0       0.0        0.0          0.0        0.0      1.0   \n",
       "\n",
       "        flag_S1  flag_SF  flag_SH  attack_type  \n",
       "64173       0.0      1.0      0.0            0  \n",
       "4905        0.0      1.0      0.0            3  \n",
       "61925       0.0      1.0      0.0            0  \n",
       "87135       0.0      1.0      0.0            0  \n",
       "116970      0.0      0.0      0.0            1  \n",
       "\n",
       "[5 rows x 106 columns]"
      ]
     },
     "execution_count": 19,
     "metadata": {},
     "output_type": "execute_result"
    }
   ],
   "source": [
    "testdata_df.head()"
   ]
  },
  {
   "cell_type": "markdown",
   "metadata": {},
   "source": [
    "###### 衡量方法 - 利用混淆矩陣"
   ]
  },
  {
   "cell_type": "code",
   "execution_count": 20,
   "metadata": {
    "collapsed": false
   },
   "outputs": [
    {
     "data": {
      "image/jpeg": "[encoded data removed]",
      "text/plain": [
       "<IPython.core.display.Image object>"
      ]
     },
     "execution_count": 20,
     "metadata": {},
     "output_type": "execute_result"
    }
   ],
   "source": [
    "from IPython.display import Image\n",
    "Image(filename='img/tpfpfntn.jpg')"
   ]
  },
  {
   "cell_type": "markdown",
   "metadata": {},
   "source": [
    "$$Recall = \\frac{TN}{TN+FN}$$"
   ]
  },
  {
   "cell_type": "code",
   "execution_count": 21,
   "metadata": {
    "collapsed": true
   },
   "outputs": [],
   "source": [
    "def score(m):\n",
    "    tp = m[0][0]\n",
    "    fp = m[0][1]\n",
    "    fn = m[1][0]\n",
    "    tn = m[1][1]\n",
    "    recall = 1. * tn / (tn + fp)\n",
    "    accuracy = float(tp + tn) / (tp + fp + tn + fn)\n",
    "    \n",
    "    return accuracy, recall\n",
    "def plot_confusion_matrix(cm, title='Confusion Metrix', cmap=plt.cm.Blues):\n",
    "    plt.imshow(cm, interpolation='nearest', cmap=cmap)\n",
    "    plt.title(title)\n",
    "    plt.colorbar()\n",
    "    tick_marks = range(0, 2)\n",
    "    plt.xticks(tick_marks, ['normal', 'anomaly'], rotation=45)\n",
    "    plt.yticks(tick_marks, ['normal', 'anomaly'])\n",
    "    plt.tight_layout()\n",
    "    plt.grid(False)\n",
    "    thresh = cm.max() / 2.\n",
    "    for i, j in itertools.product(range(cm.shape[0]), range(cm.shape[1])):\n",
    "        plt.text(j, i, cm[i, j],\n",
    "                 horizontalalignment=\"center\",\n",
    "                 color=\"white\" if cm[i, j] > thresh else \"black\")\n",
    "    plt.ylabel('Predicted label')\n",
    "    plt.xlabel('True label')"
   ]
  },
  {
   "cell_type": "markdown",
   "metadata": {},
   "source": [
    "#### 1. 最簡單的分類器\n",
    "新增一個對照組 (利用貝氏定理)"
   ]
  },
  {
   "cell_type": "code",
   "execution_count": 22,
   "metadata": {
    "collapsed": false
   },
   "outputs": [
    {
     "name": "stdout",
     "output_type": "stream",
     "text": [
      "LogisticRegression分類器 準確度：0.975000\n",
      "LogisticRegression分類器 recall：0.958333\n",
      "\n",
      "\n",
      "GaussianNB分類器 準確度：0.840000\n",
      "GaussianNB分類器 recall：0.979167\n",
      "\n",
      "\n",
      "DecisionTreeClassifier分類器 準確度：0.970000\n",
      "DecisionTreeClassifier分類器 recall：0.979167\n",
      "\n",
      "\n"
     ]
    },
    {
     "data": {
      "image/png": "[encoded data removed]",
      "text/plain": [
       "<matplotlib.figure.Figure at 0x100576b10>"
      ]
     },
     "metadata": {},
     "output_type": "display_data"
    },
    {
     "data": {
      "image/png": "[encoded data removed]",
      "text/plain": [
       "<matplotlib.figure.Figure at 0x113d1e650>"
      ]
     },
     "metadata": {},
     "output_type": "display_data"
    },
    {
     "data": {
      "image/png": "[encoded data removed]",
      "text/plain": [
       "<matplotlib.figure.Figure at 0x113ef7590>"
      ]
     },
     "metadata": {},
     "output_type": "display_data"
    }
   ],
   "source": [
    "train_x = traindata_df.drop(['attack_type'], axis = 1).values\n",
    "train_y = traindata_df['attack_type'].values\n",
    "test_x = testdata_df.drop(['attack_type'], axis = 1).values\n",
    "answer = testdata_df['attack_type'].values\n",
    "answer = np.array([0 if a == 0 else 1 for a in answer])\n",
    "\n",
    "clfs = [\n",
    "    LogisticRegression(C=2.0),\n",
    "    GaussianNB(),\n",
    "    DecisionTreeClassifier(max_depth=4)\n",
    "]\n",
    "\n",
    "for index, clf in enumerate(clfs):\n",
    "    clf.fit(train_x, train_y)\n",
    "    predict = clf.predict(test_x)\n",
    "    predict = np.array([0 if p == 0 else 1 for p in predict])\n",
    "    cfu_metrix = metrics.confusion_matrix(answer, predict).T\n",
    "    accuracy, recall = score(cfu_metrix)\n",
    "\n",
    "    print \"%s分類器 準確度：%f\" % (str(type(clf).__name__), accuracy)\n",
    "    print \"%s分類器 recall：%f\" % (str(type(clf).__name__), recall)\n",
    "    print '\\n'\n",
    "\n",
    "    plt.figure()\n",
    "    plot_confusion_matrix(cfu_metrix, str(type(clf).__name__))"
   ]
  },
  {
   "cell_type": "markdown",
   "metadata": {},
   "source": [
    "###### 分層訓練"
   ]
  },
  {
   "cell_type": "code",
   "execution_count": 23,
   "metadata": {
    "collapsed": false
   },
   "outputs": [],
   "source": [
    "en_clf_list = []\n",
    "for index in range(0, len(cluster_df)):\n",
    "    clf_cluster = [\n",
    "        BaggingClassifier(base_estimator=LogisticRegression(), n_estimators=50),\n",
    "        RandomForestClassifier(n_estimators=100),\n",
    "        AdaBoostClassifier(n_estimators=100),\n",
    "        BaggingClassifier(n_estimators=50),\n",
    "    ]\n",
    "    \n",
    "    train_y = cluster_df[index]['attack_type'].values\n",
    "    train_x = cluster_df[index].drop(['attack_type'], axis = 1).values\n",
    "    \n",
    "    en = EnsembleClassifier(clf_cluster)\n",
    "    en.fit(train_x, train_y)\n",
    "    en_clf_list.append(en)"
   ]
  },
  {
   "cell_type": "markdown",
   "metadata": {},
   "source": [
    "###### 分層預測"
   ]
  },
  {
   "cell_type": "code",
   "execution_count": 24,
   "metadata": {
    "collapsed": false
   },
   "outputs": [],
   "source": [
    "test_x = testdata_df.drop(['attack_type'], axis = 1).values\n",
    "answer = testdata_df['attack_type'].values\n",
    "prediction = []\n",
    "normal_index = []\n",
    "\n",
    "for index in range(0, len(en_clf_list)):\n",
    "    predict = en_clf_list[index].predict(test_x)\n",
    "    normal_index.append(np.where(predict == attack_type_list.index('normal'))[0])\n",
    "    \n",
    "    test_x = test_x[normal_index[index]]\n",
    "    answer = answer[normal_index[index]]"
   ]
  },
  {
   "cell_type": "code",
   "execution_count": 25,
   "metadata": {
    "collapsed": false
   },
   "outputs": [],
   "source": [
    "answer = testdata_df['attack_type'].values\n",
    "pre = normal_index[0][normal_index[1][normal_index[2]]]\n",
    "predict = []\n",
    "for i in range(0, len(answer)):\n",
    "    if i in pre:\n",
    "        predict.append(attack_type_list.index('normal'))\n",
    "    else:\n",
    "        predict.append(1)\n",
    "predict = np.array(predict)\n",
    "answer = np.array([0 if a == 0 else 1 for a in answer])"
   ]
  },
  {
   "cell_type": "markdown",
   "metadata": {},
   "source": [
    "##### 經過多層次分類器預測後的準確機率"
   ]
  },
  {
   "cell_type": "code",
   "execution_count": 26,
   "metadata": {
    "collapsed": false
   },
   "outputs": [
    {
     "name": "stdout",
     "output_type": "stream",
     "text": [
      "準確度：0.980000\n",
      "recall：0.958333\n"
     ]
    },
    {
     "data": {
      "image/png": "[encoded data removed]",
      "text/plain": [
       "<matplotlib.figure.Figure at 0x10f8a7a90>"
      ]
     },
     "metadata": {},
     "output_type": "display_data"
    }
   ],
   "source": [
    "# 預測準確的資料長度 / 測試資料的長度\n",
    "cfu_metrix = metrics.confusion_matrix(answer, predict).T\n",
    "accuracy, recall = score(cfu_metrix)\n",
    "\n",
    "print \"準確度：%f\" % accuracy\n",
    "print \"recall：%f\" % recall\n",
    "plt.figure()\n",
    "plot_confusion_matrix(cfu_metrix)"
   ]
  },
  {
   "cell_type": "code",
   "execution_count": 27,
   "metadata": {
    "collapsed": false
   },
   "outputs": [
    {
     "data": {
      "text/plain": [
       "{u'chat': {u'first_name': u'\\u9673',\n",
       "  u'id': 252175743,\n",
       "  u'last_name': u'\\u9347\\u5609',\n",
       "  u'type': u'private',\n",
       "  u'username': u'kaijia'},\n",
       " u'date': 1479046390,\n",
       " u'from': {u'first_name': u'kaijiabot',\n",
       "  u'id': 258510570,\n",
       "  u'username': u'kaijia_bot'},\n",
       " u'message_id': 30,\n",
       " u'text': u'\\u591a\\u5c64\\u6b21\\u5206\\u985e\\u5668\\u904b\\u7b97\\u5b8c\\u4e86'}"
      ]
     },
     "execution_count": 27,
     "metadata": {},
     "output_type": "execute_result"
    }
   ],
   "source": [
    "#bot.sendMessage('252175743', '多層次分類器運算完了')"
   ]
  }
 ],
 "metadata": {
  "kernelspec": {
   "display_name": "Python 2",
   "language": "python",
   "name": "python2"
  },
  "language_info": {
   "codemirror_mode": {
    "name": "ipython",
    "version": 2
   },
   "file_extension": ".py",
   "mimetype": "text/x-python",
   "name": "python",
   "nbconvert_exporter": "python",
   "pygments_lexer": "ipython2",
   "version": "2.7.12"
  }
 },
 "nbformat": 4,
 "nbformat_minor": 0
}
